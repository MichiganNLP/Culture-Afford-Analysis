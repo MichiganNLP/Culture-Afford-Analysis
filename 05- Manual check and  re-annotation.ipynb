{
 "cells": [
  {
   "cell_type": "code",
   "execution_count": null,
   "id": "5d3a383f",
   "metadata": {},
   "outputs": [],
   "source": [
    "#!pip install gsutil"
   ]
  },
  {
   "cell_type": "code",
   "execution_count": null,
   "id": "496c0f58",
   "metadata": {},
   "outputs": [],
   "source": [
    "#path_to_folder = ''\n",
    "#path_data = '/'"
   ]
  },
  {
   "cell_type": "code",
   "execution_count": null,
   "id": "3979b2f9",
   "metadata": {},
   "outputs": [],
   "source": [
    "import pandas as pd\n",
    "import PIL\n",
    "from PIL import Image\n",
    "from IPython.display import display\n",
    "import os\n",
    "import csv\n",
    "from IPython.display import clear_output"
   ]
  },
  {
   "cell_type": "code",
   "execution_count": null,
   "id": "943ae737",
   "metadata": {},
   "outputs": [],
   "source": [
    "path_to_annotation_data = '/dollar_street_reannotated_with_income_v2.csv'"
   ]
  },
  {
   "cell_type": "code",
   "execution_count": null,
   "id": "bd752888",
   "metadata": {},
   "outputs": [],
   "source": [
    "data = pd.read_csv(path_to_annotation_data)\n",
    "data.rename(columns={'identified object': 'identified_object'}, inplace=True)\n",
    "data.head(1)"
   ]
  },
  {
   "cell_type": "code",
   "execution_count": null,
   "id": "bff5255d",
   "metadata": {},
   "outputs": [],
   "source": [
    "data['topics'].nunique()"
   ]
  },
  {
   "cell_type": "markdown",
   "id": "572a6730",
   "metadata": {},
   "source": [
    "## Set up pipeline"
   ]
  },
  {
   "cell_type": "code",
   "execution_count": null,
   "id": "df6c3a63",
   "metadata": {},
   "outputs": [],
   "source": [
    "# filter\n",
    "def contains_none(identified_object):\n",
    "    return \"None\" in str(identified_object) or \"no\" in str(identified_object)\n",
    "\n",
    "def filter(data, criteria = 'None'):\n",
    "    '''criteria = ['None', 'Score', 'income']'''\n",
    "\n",
    "    if criteria == 'None':\n",
    "    df = data[data[\"identified_object\"].apply(contains_none)]\n",
    "\n",
    "    if criteria == 'Sentence':\n",
    "    df = data[len(data[\"identified_object\"].split(' ')) > 4]\n",
    "\n",
    "    if criteria == 'Score':\n",
    "    df = data[data[\"scores\"] <= 0.2]\n",
    "\n",
    "    if criteria == 'Income':\n",
    "    df = data[data['income'] <= 500]\n",
    "\n",
    "    return df\n"
   ]
  },
  {
   "cell_type": "code",
   "execution_count": null,
   "id": "c026e78b",
   "metadata": {},
   "outputs": [],
   "source": [
    "#show image\n",
    "path_prefix = 'gs://dollar-street/dataset_dollarstreet/'\n",
    "import subprocess\n",
    "\n",
    "def show_image(path_prefix, im_id):\n",
    "    full_path = path_prefix + im_id\n",
    "    print(full_path)\n",
    "    #!gsutil cp gs://dollar-street/dataset_dollarstreet/assets/5d4bf101cf0b3a0f3f355d2c/5d4bf101cf0b3a0f3f355d2c.jpg /content/\n",
    "    #command = f\"gsutil gs://dollar-street/dataset_dollarstreet/assets/5d4bf101cf0b3a0f3f355d2c/5d4bf101cf0b3a0f3f355d2c.jpg /content/\"\n",
    "    !gsutil cp full_path /content/\n",
    "\n",
    "    im_path = '/content/' + im_id.split('/')[-1]\n",
    "\n",
    "    im = Image.open(im_path)\n",
    "    #display(im)\n",
    "    return"
   ]
  },
  {
   "cell_type": "code",
   "execution_count": null,
   "id": "33d8bada",
   "metadata": {},
   "outputs": [],
   "source": [
    "#Update\n",
    "def update(data, df, index, old_value, im_path):\n",
    "\n",
    "    new_value = input(f\"Previous annotation:{old_value}. What will you update the identified object cell with?: \")\n",
    "    os.remove(im_path)\n",
    "\n",
    "    data.loc[index, ['identified_object']] = new_value\n",
    "\n",
    "    data.to_csv(path_to_folder + 'joan_nan.csv')\n",
    "    return data, new_value"
   ]
  },
  {
   "cell_type": "code",
   "execution_count": null,
   "id": "0716535f",
   "metadata": {},
   "outputs": [],
   "source": [
    "#Track\n",
    "def track_updates(track_list, criteria, index, old_value, new_value):\n",
    "    mini_list = [criteria, index, old_value, new_value]\n",
    "    track_list.append(mini_list)\n",
    "\n",
    "    with open(path_to_folder +'track_list_2.csv', \"w\", newline=\"\") as file:\n",
    "    # Create a CSV writer object\n",
    "    writer = csv.writer(file)\n",
    "    # Write the list to the CSV file\n",
    "    writer.writerows(track_list)\n",
    "\n",
    "    clear_output(wait=True)\n",
    "    return"
   ]
  },
  {
   "cell_type": "code",
   "execution_count": null,
   "id": "a82231ff",
   "metadata": {},
   "outputs": [],
   "source": [
    "## Altogether\n",
    "\n",
    "def show_current_values(row):\n",
    "\n",
    "    old_value = row['identified_object']\n",
    "    im_id = row['image ids']\n",
    "    print(f\"Index: {index}\")\n",
    "    print(f\"Topic: {row['topics']}\")\n",
    "    print(f\"Llava caption: {row['Llava captions']}\")\n",
    "    print(f\"Function: {row['generated functions']}\")\n",
    "    print(f\"Object: {row['identified_object']}\")\n",
    "\n",
    "    show_image(path_prefix, im_id)\n",
    "\n",
    "    return old_value, im_id"
   ]
  },
  {
   "cell_type": "code",
   "execution_count": null,
   "id": "414ced1a",
   "metadata": {},
   "outputs": [],
   "source": []
  },
  {
   "cell_type": "markdown",
   "id": "5dbf3ed2",
   "metadata": {},
   "source": [
    "## Iterative manual reannotation"
   ]
  },
  {
   "cell_type": "code",
   "execution_count": null,
   "id": "37579b61",
   "metadata": {},
   "outputs": [],
   "source": [
    "#initial run\n",
    "\n",
    "\n",
    "track_list = []\n",
    "path_to_folder = '/'\n",
    "path_to_annotation_data = '/'\n",
    "data = pd.read_csv(path_to_annotation_data)\n",
    "data.rename(columns={'identified object': 'identified_object'}, inplace=True)\n",
    "data.set_index('Unnamed: 0')\n",
    "\n",
    "criteria = 'None'\n",
    "df = data\n",
    "\n",
    "df = filter(data, criteria)\n",
    "\n",
    "for index, row in df.iterrows():\n",
    "    old_value, im_id = show_current_values(row)\n",
    "\n",
    "    im_path = '/content/' + im_id.split('/')[-1]\n",
    "    data, new_value = update(data, df, index, old_value, im_path)\n",
    "    track_updates(track_list, criteria, index, old_value, new_value)"
   ]
  },
  {
   "cell_type": "code",
   "execution_count": null,
   "id": "334a2d30",
   "metadata": {},
   "outputs": [],
   "source": [
    "data.to_csv(path_to_folder + 'data/all_none_objects_addressed.csv')"
   ]
  },
  {
   "cell_type": "code",
   "execution_count": null,
   "id": "ffd04f8a",
   "metadata": {},
   "outputs": [],
   "source": []
  }
 ],
 "metadata": {
  "kernelspec": {
   "display_name": "Python 3 (ipykernel)",
   "language": "python",
   "name": "python3"
  },
  "language_info": {
   "codemirror_mode": {
    "name": "ipython",
    "version": 3
   },
   "file_extension": ".py",
   "mimetype": "text/x-python",
   "name": "python",
   "nbconvert_exporter": "python",
   "pygments_lexer": "ipython3",
   "version": "3.10.9"
  }
 },
 "nbformat": 4,
 "nbformat_minor": 5
}
