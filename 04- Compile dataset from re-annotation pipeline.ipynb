{
 "cells": [
  {
   "cell_type": "code",
   "execution_count": 1,
   "id": "ff43253d",
   "metadata": {},
   "outputs": [],
   "source": [
    "path_data = '/'"
   ]
  },
  {
   "cell_type": "code",
   "execution_count": 2,
   "id": "fbb1c522",
   "metadata": {},
   "outputs": [
    {
     "name": "stdout",
     "output_type": "stream",
     "text": [
      "Torch version: 2.2.1+cu121\n"
     ]
    }
   ],
   "source": [
    "import numpy as np\n",
    "import pandas as pd\n",
    "import matplotlib.pyplot as plt\n",
    "import seaborn as sns \n",
    "import warnings\n",
    "warnings.filterwarnings(\"ignore\")\n",
    "import os\n",
    "\n",
    "import pandas as pd\n",
    "\n",
    "import torch\n",
    "from pkg_resources import packaging\n",
    "from PIL import Image\n",
    "import tqdm\n",
    "from pathlib import Path\n",
    "print(\"Torch version:\", torch.__version__)\n",
    "\n",
    "from PIL import ImageFile\n",
    "ImageFile.LOAD_TRUNCATED_IMAGES = True\n",
    "\n",
    "plt.style.use('ggplot')"
   ]
  },
  {
   "cell_type": "code",
   "execution_count": 3,
   "id": "4c14e84c",
   "metadata": {},
   "outputs": [],
   "source": [
    "data_unfiltered = pd.read_csv(\"/\".join([path_data, \"images_v2.csv\"]))\n",
    "#display(data_unfiltered)"
   ]
  },
  {
   "cell_type": "code",
   "execution_count": 4,
   "id": "f79fed69",
   "metadata": {},
   "outputs": [
    {
     "data": {
      "text/plain": [
       "38479"
      ]
     },
     "execution_count": 4,
     "metadata": {},
     "output_type": "execute_result"
    }
   ],
   "source": [
    "len(data_unfiltered)"
   ]
  },
  {
   "cell_type": "markdown",
   "id": "f7c8d061",
   "metadata": {},
   "source": [
    "### Remove subjective topics"
   ]
  },
  {
   "cell_type": "code",
   "execution_count": 5,
   "id": "e6c18806",
   "metadata": {},
   "outputs": [],
   "source": [
    "subjective_topics = ['Favorite home decorations', 'Favourite item in kitchen', 'Favourite sports clubs', 'How the most loved item is used', 'icons', 'Idols', 'Latest furniture bought', ' looking over the shoulder', 'Most loved item', 'Most loved toy', 'Most played songs on the radio', 'Music idol', 'Next big thing you are planning to buy', 'Playing with most loved toy', 'Thing I dream about having', 'Things I wish I had', 'Using most loved item', 'Youth culture', 'What I wish I could buy']"
   ]
  },
  {
   "cell_type": "code",
   "execution_count": 6,
   "id": "377f14b7",
   "metadata": {},
   "outputs": [],
   "source": [
    "unique_topics = data_unfiltered['topics'].unique()"
   ]
  },
  {
   "cell_type": "code",
   "execution_count": 7,
   "id": "ec2c83fa",
   "metadata": {},
   "outputs": [],
   "source": [
    "Subjective_topic_list = []\n",
    "\n",
    "for topic in unique_topics:\n",
    "    topic_ = topic.replace('/ ', ', ')\n",
    "    topic_split = topic_.split(',')\n",
    "    for split in topic_split:\n",
    "        if split in subjective_topics:\n",
    "            Subjective_topic_list.append(topic)"
   ]
  },
  {
   "cell_type": "code",
   "execution_count": 8,
   "id": "d4d490bb",
   "metadata": {},
   "outputs": [
    {
     "data": {
      "text/html": [
       "<div>\n",
       "<style scoped>\n",
       "    .dataframe tbody tr th:only-of-type {\n",
       "        vertical-align: middle;\n",
       "    }\n",
       "\n",
       "    .dataframe tbody tr th {\n",
       "        vertical-align: top;\n",
       "    }\n",
       "\n",
       "    .dataframe thead th {\n",
       "        text-align: right;\n",
       "    }\n",
       "</style>\n",
       "<table border=\"1\" class=\"dataframe\">\n",
       "  <thead>\n",
       "    <tr style=\"text-align: right;\">\n",
       "      <th></th>\n",
       "      <th>id</th>\n",
       "      <th>country.name</th>\n",
       "      <th>country.id</th>\n",
       "      <th>region.id</th>\n",
       "      <th>type</th>\n",
       "      <th>imageRelPath</th>\n",
       "      <th>topics</th>\n",
       "      <th>place</th>\n",
       "      <th>income</th>\n",
       "    </tr>\n",
       "  </thead>\n",
       "  <tbody>\n",
       "    <tr>\n",
       "      <th>1</th>\n",
       "      <td>5d4bf31ccf0b3a0f3f359814</td>\n",
       "      <td>Burundi</td>\n",
       "      <td>bi</td>\n",
       "      <td>af</td>\n",
       "      <td>image</td>\n",
       "      <td>assets/5d4bf31ccf0b3a0f3f359814/5d4bf31ccf0b3a...</td>\n",
       "      <td>Family snapshots</td>\n",
       "      <td>butoyi</td>\n",
       "      <td>26.994581</td>\n",
       "    </tr>\n",
       "    <tr>\n",
       "      <th>2</th>\n",
       "      <td>5d4bf31ccf0b3a0f3f35982a</td>\n",
       "      <td>Burundi</td>\n",
       "      <td>bi</td>\n",
       "      <td>af</td>\n",
       "      <td>image</td>\n",
       "      <td>assets/5d4bf31ccf0b3a0f3f35982a/5d4bf31ccf0b3a...</td>\n",
       "      <td>Cutlery</td>\n",
       "      <td>butoyi</td>\n",
       "      <td>26.994581</td>\n",
       "    </tr>\n",
       "    <tr>\n",
       "      <th>3</th>\n",
       "      <td>5d4bf31ccf0b3a0f3f35982e</td>\n",
       "      <td>Burundi</td>\n",
       "      <td>bi</td>\n",
       "      <td>af</td>\n",
       "      <td>image</td>\n",
       "      <td>assets/5d4bf31ccf0b3a0f3f35982e/5d4bf31ccf0b3a...</td>\n",
       "      <td>Family</td>\n",
       "      <td>butoyi</td>\n",
       "      <td>26.994581</td>\n",
       "    </tr>\n",
       "    <tr>\n",
       "      <th>4</th>\n",
       "      <td>5d4bf31ccf0b3a0f3f359830</td>\n",
       "      <td>Burundi</td>\n",
       "      <td>bi</td>\n",
       "      <td>af</td>\n",
       "      <td>image</td>\n",
       "      <td>assets/5d4bf31ccf0b3a0f3f359830/5d4bf31ccf0b3a...</td>\n",
       "      <td>Place where eating dinner</td>\n",
       "      <td>butoyi</td>\n",
       "      <td>26.994581</td>\n",
       "    </tr>\n",
       "    <tr>\n",
       "      <th>5</th>\n",
       "      <td>5d4bf31dcf0b3a0f3f35983c</td>\n",
       "      <td>Burundi</td>\n",
       "      <td>bi</td>\n",
       "      <td>af</td>\n",
       "      <td>image</td>\n",
       "      <td>assets/5d4bf31dcf0b3a0f3f35983c/5d4bf31dcf0b3a...</td>\n",
       "      <td>Plate of food</td>\n",
       "      <td>butoyi</td>\n",
       "      <td>26.994581</td>\n",
       "    </tr>\n",
       "    <tr>\n",
       "      <th>...</th>\n",
       "      <td>...</td>\n",
       "      <td>...</td>\n",
       "      <td>...</td>\n",
       "      <td>...</td>\n",
       "      <td>...</td>\n",
       "      <td>...</td>\n",
       "      <td>...</td>\n",
       "      <td>...</td>\n",
       "      <td>...</td>\n",
       "    </tr>\n",
       "    <tr>\n",
       "      <th>38474</th>\n",
       "      <td>5ec4f5513f62767d97a47324</td>\n",
       "      <td>France</td>\n",
       "      <td>fr</td>\n",
       "      <td>eu</td>\n",
       "      <td>image</td>\n",
       "      <td>assets/5ec4f5513f62767d97a47324/5ec4f5513f6276...</td>\n",
       "      <td>Bed</td>\n",
       "      <td>larriere</td>\n",
       "      <td>19671.000000</td>\n",
       "    </tr>\n",
       "    <tr>\n",
       "      <th>38475</th>\n",
       "      <td>5ec4f5513f62767d97a47325</td>\n",
       "      <td>France</td>\n",
       "      <td>fr</td>\n",
       "      <td>eu</td>\n",
       "      <td>image</td>\n",
       "      <td>assets/5ec4f5513f62767d97a47325/5ec4f5513f6276...</td>\n",
       "      <td>Bathroom/Toilet</td>\n",
       "      <td>larriere</td>\n",
       "      <td>19671.000000</td>\n",
       "    </tr>\n",
       "    <tr>\n",
       "      <th>38476</th>\n",
       "      <td>5ec4f5523f62767d97a47327</td>\n",
       "      <td>France</td>\n",
       "      <td>fr</td>\n",
       "      <td>eu</td>\n",
       "      <td>image</td>\n",
       "      <td>assets/5ec4f5523f62767d97a47327/5ec4f5523f6276...</td>\n",
       "      <td>Armchair</td>\n",
       "      <td>larriere</td>\n",
       "      <td>19671.000000</td>\n",
       "    </tr>\n",
       "    <tr>\n",
       "      <th>38477</th>\n",
       "      <td>5ec4f5523f62767d97a47328</td>\n",
       "      <td>France</td>\n",
       "      <td>fr</td>\n",
       "      <td>eu</td>\n",
       "      <td>image</td>\n",
       "      <td>assets/5ec4f5523f62767d97a47328/5ec4f5523f6276...</td>\n",
       "      <td>Armchair</td>\n",
       "      <td>larriere</td>\n",
       "      <td>19671.000000</td>\n",
       "    </tr>\n",
       "    <tr>\n",
       "      <th>38478</th>\n",
       "      <td>5ecfdf1f581a3d02cf7f8c05</td>\n",
       "      <td>France</td>\n",
       "      <td>fr</td>\n",
       "      <td>eu</td>\n",
       "      <td>image</td>\n",
       "      <td>assets/5ecfdf1f581a3d02cf7f8c05/5ecfdf1f581a3d...</td>\n",
       "      <td>Family</td>\n",
       "      <td>larriere</td>\n",
       "      <td>19671.000000</td>\n",
       "    </tr>\n",
       "  </tbody>\n",
       "</table>\n",
       "<p>36754 rows × 9 columns</p>\n",
       "</div>"
      ],
      "text/plain": [
       "                             id country.name country.id region.id   type  \\\n",
       "1      5d4bf31ccf0b3a0f3f359814      Burundi         bi        af  image   \n",
       "2      5d4bf31ccf0b3a0f3f35982a      Burundi         bi        af  image   \n",
       "3      5d4bf31ccf0b3a0f3f35982e      Burundi         bi        af  image   \n",
       "4      5d4bf31ccf0b3a0f3f359830      Burundi         bi        af  image   \n",
       "5      5d4bf31dcf0b3a0f3f35983c      Burundi         bi        af  image   \n",
       "...                         ...          ...        ...       ...    ...   \n",
       "38474  5ec4f5513f62767d97a47324       France         fr        eu  image   \n",
       "38475  5ec4f5513f62767d97a47325       France         fr        eu  image   \n",
       "38476  5ec4f5523f62767d97a47327       France         fr        eu  image   \n",
       "38477  5ec4f5523f62767d97a47328       France         fr        eu  image   \n",
       "38478  5ecfdf1f581a3d02cf7f8c05       France         fr        eu  image   \n",
       "\n",
       "                                            imageRelPath  \\\n",
       "1      assets/5d4bf31ccf0b3a0f3f359814/5d4bf31ccf0b3a...   \n",
       "2      assets/5d4bf31ccf0b3a0f3f35982a/5d4bf31ccf0b3a...   \n",
       "3      assets/5d4bf31ccf0b3a0f3f35982e/5d4bf31ccf0b3a...   \n",
       "4      assets/5d4bf31ccf0b3a0f3f359830/5d4bf31ccf0b3a...   \n",
       "5      assets/5d4bf31dcf0b3a0f3f35983c/5d4bf31dcf0b3a...   \n",
       "...                                                  ...   \n",
       "38474  assets/5ec4f5513f62767d97a47324/5ec4f5513f6276...   \n",
       "38475  assets/5ec4f5513f62767d97a47325/5ec4f5513f6276...   \n",
       "38476  assets/5ec4f5523f62767d97a47327/5ec4f5523f6276...   \n",
       "38477  assets/5ec4f5523f62767d97a47328/5ec4f5523f6276...   \n",
       "38478  assets/5ecfdf1f581a3d02cf7f8c05/5ecfdf1f581a3d...   \n",
       "\n",
       "                          topics     place        income  \n",
       "1               Family snapshots    butoyi     26.994581  \n",
       "2                        Cutlery    butoyi     26.994581  \n",
       "3                         Family    butoyi     26.994581  \n",
       "4      Place where eating dinner    butoyi     26.994581  \n",
       "5                  Plate of food    butoyi     26.994581  \n",
       "...                          ...       ...           ...  \n",
       "38474                        Bed  larriere  19671.000000  \n",
       "38475            Bathroom/Toilet  larriere  19671.000000  \n",
       "38476                   Armchair  larriere  19671.000000  \n",
       "38477                   Armchair  larriere  19671.000000  \n",
       "38478                     Family  larriere  19671.000000  \n",
       "\n",
       "[36754 rows x 9 columns]"
      ]
     },
     "metadata": {},
     "output_type": "display_data"
    }
   ],
   "source": [
    "data = data_unfiltered[~data_unfiltered['topics'].isin(Subjective_topic_list)]\n",
    "display(data)"
   ]
  },
  {
   "cell_type": "code",
   "execution_count": 9,
   "id": "964d0123",
   "metadata": {},
   "outputs": [
    {
     "data": {
      "text/plain": [
       "36754"
      ]
     },
     "execution_count": 9,
     "metadata": {},
     "output_type": "execute_result"
    }
   ],
   "source": [
    "len(data)"
   ]
  },
  {
   "cell_type": "markdown",
   "id": "eed9dd80",
   "metadata": {},
   "source": [
    "### Split topics"
   ]
  },
  {
   "cell_type": "code",
   "execution_count": 10,
   "id": "3903710d",
   "metadata": {
    "scrolled": true
   },
   "outputs": [
    {
     "name": "stdout",
     "output_type": "stream",
     "text": [
      "45692\n",
      "270\n"
     ]
    }
   ],
   "source": [
    "from collections import Counter\n",
    "list_topics = list(data['topics'])\n",
    "\n",
    "\n",
    "separate_topics = [t.lower().strip() for topic in list_topics for t in topic.split(\",\") ]\n",
    "\n",
    "\n",
    "print(len(separate_topics))\n",
    "#print(Counter(separate_topics))\n",
    "set_topics = list(set(separate_topics))\n",
    "print(len(set_topics))"
   ]
  },
  {
   "cell_type": "code",
   "execution_count": 11,
   "id": "ae6fbeeb",
   "metadata": {},
   "outputs": [
    {
     "name": "stdout",
     "output_type": "stream",
     "text": [
      "270\n"
     ]
    }
   ],
   "source": [
    "# map each topic to list of corresponding images\n",
    "dict_topic2img = {}\n",
    "for list_topics, image_path in zip(data['topics'], data['imageRelPath']):\n",
    "    for topic in list_topics.split(\",\"):\n",
    "        topic = topic.lower().strip()\n",
    "        if topic not in dict_topic2img:\n",
    "            dict_topic2img[topic] = set() #### here a set was used in place of list to avoid duplicate where keyword appears twice in a topic\n",
    "        dict_topic2img[topic].add(image_path)\n",
    "\n",
    "print(len(dict_topic2img))"
   ]
  },
  {
   "cell_type": "code",
   "execution_count": 12,
   "id": "58681a22",
   "metadata": {},
   "outputs": [
    {
     "name": "stdout",
     "output_type": "stream",
     "text": [
      "45616\n"
     ]
    }
   ],
   "source": [
    "#sanity checks \n",
    "\n",
    "ground_truth_counts = [len(dict_topic2img[i]) for i in dict_topic2img]\n",
    "print(sum(ground_truth_counts))"
   ]
  },
  {
   "cell_type": "code",
   "execution_count": 13,
   "id": "cd8f6afc",
   "metadata": {},
   "outputs": [],
   "source": [
    "topics = dict_topic2img.keys()"
   ]
  },
  {
   "cell_type": "code",
   "execution_count": 14,
   "id": "58f62f22",
   "metadata": {},
   "outputs": [
    {
     "data": {
      "text/plain": [
       "270"
      ]
     },
     "execution_count": 14,
     "metadata": {},
     "output_type": "execute_result"
    }
   ],
   "source": [
    "len(topics)"
   ]
  },
  {
   "cell_type": "code",
   "execution_count": null,
   "id": "5439842e",
   "metadata": {},
   "outputs": [],
   "source": []
  },
  {
   "cell_type": "markdown",
   "id": "20629a42",
   "metadata": {},
   "source": [
    "# Create prompts for the text encoder"
   ]
  },
  {
   "cell_type": "code",
   "execution_count": 29,
   "id": "e1f9b270",
   "metadata": {},
   "outputs": [],
   "source": [
    "temp = \"This is a photo of \"\n",
    "English_topics = [temp + topic for topic in topics]"
   ]
  },
  {
   "cell_type": "code",
   "execution_count": 30,
   "id": "ea685fd6",
   "metadata": {},
   "outputs": [],
   "source": [
    "#English_topics"
   ]
  },
  {
   "cell_type": "code",
   "execution_count": 31,
   "id": "4a3df851",
   "metadata": {},
   "outputs": [],
   "source": [
    "topic2english = {}\n",
    "for topic, prompt in zip(topics, English_topics):\n",
    "    topic2english[topic] = prompt"
   ]
  },
  {
   "cell_type": "code",
   "execution_count": 23,
   "id": "4e84a61b",
   "metadata": {},
   "outputs": [
    {
     "data": {
      "text/plain": [
       "{'e': 'This is a photo of e'}"
      ]
     },
     "execution_count": 23,
     "metadata": {},
     "output_type": "execute_result"
    }
   ],
   "source": [
    "#topic2english"
   ]
  },
  {
   "cell_type": "code",
   "execution_count": 32,
   "id": "d217ca79",
   "metadata": {},
   "outputs": [
    {
     "data": {
      "text/plain": [
       "'This is a photo of family snapshots'"
      ]
     },
     "execution_count": 32,
     "metadata": {},
     "output_type": "execute_result"
    }
   ],
   "source": [
    "topic2english['family snapshots']"
   ]
  },
  {
   "cell_type": "code",
   "execution_count": 149,
   "id": "cdde580b",
   "metadata": {},
   "outputs": [
    {
     "name": "stdout",
     "output_type": "stream",
     "text": [
      "270\n"
     ]
    }
   ],
   "source": [
    "english_dict_topic2imgGT = {}\n",
    "\n",
    "for topic in topics:\n",
    "    key = topic2english[topic]\n",
    "    english_dict_topic2imgGT[key] = dict_topic2img[topic]\n",
    "print(len(english_dict_topic2imgGT))"
   ]
  },
  {
   "cell_type": "code",
   "execution_count": 150,
   "id": "9feff791",
   "metadata": {
    "scrolled": true
   },
   "outputs": [
    {
     "data": {
      "text/plain": [
       "dict_keys(['This is a photo of family snapshots', 'This is a photo of cutlery', 'This is a photo of family', 'This is a photo of place where eating dinner', 'This is a photo of plate of food', 'This is a photo of table with food', 'This is a photo of get water', 'This is a photo of stove/hob', 'This is a photo of light source in kitchen', 'This is a photo of drinking water', 'This is a photo of kitchen sink', 'This is a photo of bathroom privacy', 'This is a photo of backyard', 'This is a photo of front door', 'This is a photo of home', 'This is a photo of source of cool', 'This is a photo of street view', 'This is a photo of teeth', 'This is a photo of hand back', 'This is a photo of hand palm', 'This is a photo of pet', 'This is a photo of bedroom', 'This is a photo of grains', 'This is a photo of wardrobe', 'This is a photo of armchair', 'This is a photo of hallway', 'This is a photo of kitchen', 'This is a photo of books', 'This is a photo of everyday shoes', 'This is a photo of hand washing', 'This is a photo of trash/waste', 'This is a photo of tools', 'This is a photo of hair brush/comb', 'This is a photo of street detail', 'This is a photo of soap for hands and body', 'This is a photo of shampoo', 'This is a photo of vegetable plot', 'This is a photo of roof', 'This is a photo of toilet', 'This is a photo of spices', 'This is a photo of salt', 'This is a photo of jewelry', 'This is a photo of cooking utensils', 'This is a photo of dish washing brush/cloth', 'This is a photo of cooking pots', 'This is a photo of plates', 'This is a photo of cups/mugs/glasses', 'This is a photo of wall', 'This is a photo of cattle', 'This is a photo of ceiling', 'This is a photo of bed', 'This is a photo of storage room', 'This is a photo of refrigerator', 'This is a photo of floor', 'This is a photo of wall inside', 'This is a photo of tooth paste', 'This is a photo of toothbrush', 'This is a photo of goats', 'This is a photo of cleaning equipment', 'This is a photo of cleaning after toilet', 'This is a photo of visit', 'This is a photo of hand open to closed', 'This is a photo of brushing teeth', 'This is a photo of using toilet', 'This is a photo of doing dishes', 'This is a photo of pouring drinking water', 'This is a photo of pouring water', 'This is a photo of starting stove', 'This is a photo of cooking', 'This is a photo of preparing food', 'This is a photo of shoes', 'This is a photo of washing hands', 'This is a photo of walking to get water', 'This is a photo of washing clothes/cleaning', 'This is a photo of eating', 'This is a photo of family eating', 'This is a photo of vegetables', 'This is a photo of smoke and steam exit', 'This is a photo of fruits and vegetables', 'This is a photo of toys', 'This is a photo of nicest shoes', 'This is a photo of mosquito protection', 'This is a photo of wall decoration', 'This is a photo of living room', 'This is a photo of fruit trees', 'This is a photo of toilet paper', 'This is a photo of bathroom/toilet', 'This is a photo of shaving', 'This is a photo of lock on front door', 'This is a photo of couch', 'This is a photo of sofa', 'This is a photo of knifes', 'This is a photo of dish racks', 'This is a photo of play area', 'This is a photo of place where serving guests', 'This is a photo of photo guide images', 'This is a photo of agriculture land', 'This is a photo of sitting area', 'This is a photo of bed kids', 'This is a photo of drying', 'This is a photo of water outlet', 'This is a photo of drainage', 'This is a photo of shower', 'This is a photo of house overview', 'This is a photo of socializing', 'This is a photo of playing', 'This is a photo of kids playing outside', 'This is a photo of chopping food', 'This is a photo of chickens', 'This is a photo of bike', 'This is a photo of source of heat', 'This is a photo of phone', 'This is a photo of work area', 'This is a photo of children room', 'This is a photo of light source in livingroom', 'This is a photo of washing detergent', 'This is a photo of medication', 'This is a photo of dish washing soap', 'This is a photo of turning lights on and off', 'This is a photo of source of light', 'This is a photo of wall clock', 'This is a photo of guest bed', 'This is a photo of diapers (or baby-pants)', 'This is a photo of switch on/off', 'This is a photo of pen/pencils', 'This is a photo of paper', 'This is a photo of rug', 'This is a photo of bed_hq', 'This is a photo of social drink', 'This is a photo of carrying water', 'This is a photo of light sources', 'This is a photo of music equipment', 'This is a photo of frontdoor keys', 'This is a photo of lightsources by bed', 'This is a photo of reading light', 'This is a photo of necklaces', 'This is a photo of earings', 'This is a photo of cosmetics', 'This is a photo of cleaning floors', 'This is a photo of make up', 'This is a photo of putting on make up', 'This is a photo of chopping ingredients', 'This is a photo of brushing hair', 'This is a photo of taking a teaspoon of salt', 'This is a photo of drinking social drink', 'This is a photo of meat or fish', 'This is a photo of replaced', 'This is a photo of radio', 'This is a photo of listening to the radio', 'This is a photo of coins', 'This is a photo of pet foods', 'This is a photo of menstruation pads / tampax', 'This is a photo of dinner guests', 'This is a photo of nature sceneries', 'This is a photo of worship places', 'This is a photo of power outlet', 'This is a photo of glasses or lenses', 'This is a photo of adding spices to food while cooking', 'This is a photo of presenting dollar street', 'This is a photo of worshipping', 'This is a photo of writing', 'This is a photo of writing signature', 'This is a photo of tv', 'This is a photo of fishes', 'This is a photo of bowls', 'This is a photo of kids playing inside', 'This is a photo of bills of money', 'This is a photo of coats and jackets', 'This is a photo of surroundings', 'This is a photo of moped/motorcycle', 'This is a photo of parking lot', 'This is a photo of toothpaste on toothbrush', 'This is a photo of wheel barrow', 'This is a photo of waste dumps', 'This is a photo of wedding photos', 'This is a photo of ventilation', 'This is a photo of milk cows or bulls', 'This is a photo of answering the phone', 'This is a photo of closing the front door', 'This is a photo of hanging clothes to dry', 'This is a photo of opening the front door', 'This is a photo of reading', 'This is a photo of reading a book', 'This is a photo of seeing the back of book', 'This is a photo of sleeping', 'This is a photo of turning fan/ac on', 'This is a photo of turning heater on', 'This is a photo of walking towards front door', 'This is a photo of writing \"home\"', 'This is a photo of piercings', 'This is a photo of fishing equipment', 'This is a photo of arm watch', 'This is a photo of soccer balls', 'This is a photo of horse stables', 'This is a photo of playgrounds', 'This is a photo of drinks', 'This is a photo of other transport', 'This is a photo of car', 'This is a photo of car decorations', 'This is a photo of transport of heavy things', 'This is a photo of clothes', 'This is a photo of cigarettes', 'This is a photo of portraits', 'This is a photo of ingredients', 'This is a photo of fields', 'This is a photo of celebrity posters', 'This is a photo of freezer', 'This is a photo of boat', 'This is a photo of arm watches', 'This is a photo of sitting and watching tv', 'This is a photo of plugging into and out of power outlet', 'This is a photo of dishwasher', 'This is a photo of oven', 'This is a photo of baby powder', 'This is a photo of tattoos', 'This is a photo of sheep', 'This is a photo of preparing social drink', 'This is a photo of go through mail', 'This is a photo of smoking', 'This is a photo of walking through home', 'This is a photo of computer', 'This is a photo of contraceptives', 'This is a photo of instrument', 'This is a photo of rehabilitation technology', 'This is a photo of turn tv on', 'This is a photo of playing an instrument', 'This is a photo of bread ready', 'This is a photo of alcoholic drinks', 'This is a photo of snacks', 'This is a photo of alarm clock', 'This is a photo of throwing food trash away', 'This is a photo of car keys', 'This is a photo of tractors', 'This is a photo of opening and closing the refrigerator', 'This is a photo of water sources', 'This is a photo of opening and closing the freezer', 'This is a photo of horses', 'This is a photo of water sources for doing dishes', 'This is a photo of soccer supporter items', 'This is a photo of cooking food', 'This is a photo of snack stores', 'This is a photo of daylight ostructions', 'This is a photo of smog/bad air breathing protection', 'This is a photo of bad outdoor air obstructions', 'This is a photo of skies outside', 'This is a photo of sources of drinking water', 'This is a photo of laying in bed - pretend to sleep', 'This is a photo of newspapers', 'This is a photo of elevators', 'This is a photo of water purifier solutions', 'This is a photo of air fresheners (scents', 'This is a photo of smells)', 'This is a photo of air cleaning equipments', 'This is a photo of foodstores', 'This is a photo of markets', 'This is a photo of picking up the phone', 'This is a photo of bread - ready', 'This is a photo of opening mail', 'This is a photo of meat storages', 'This is a photo of bread bowls', 'This is a photo of disability aid', 'This is a photo of electric wires', 'This is a photo of tabloids', 'This is a photo of equipment', 'This is a photo of baking tools', 'This is a photo of baking sheets', 'This is a photo of baking tables', 'This is a photo of electricity wires', 'This is a photo of meat markets', 'This is a photo of vegetable markets'])"
      ]
     },
     "execution_count": 150,
     "metadata": {},
     "output_type": "execute_result"
    }
   ],
   "source": [
    "english_dict_topic2imgGT.keys()"
   ]
  },
  {
   "cell_type": "markdown",
   "id": "2ca748ec",
   "metadata": {},
   "source": [
    "## Compiling dataset"
   ]
  },
  {
   "cell_type": "code",
   "execution_count": 15,
   "id": "62baa655",
   "metadata": {},
   "outputs": [
    {
     "data": {
      "text/plain": [
       "270"
      ]
     },
     "execution_count": 15,
     "metadata": {},
     "output_type": "execute_result"
    }
   ],
   "source": [
    "import pickle\n",
    "with open(\"data/dict_genfunction_topic2imgGT.pkl\",\"rb\") as f:\n",
    "    generated_functions_dict_topic2imgGT = pickle.load(f)\n",
    "\n",
    "len(generated_functions_dict_topic2imgGT)"
   ]
  },
  {
   "cell_type": "code",
   "execution_count": 16,
   "id": "92a35f6f",
   "metadata": {},
   "outputs": [],
   "source": [
    "topics_list = []\n",
    "image_ids = []\n",
    "functions_list = []\n",
    "\n",
    "for topic_, images in dict_topic2img.items():\n",
    "    topics_list += [topic_] * len(list(images))\n",
    "    image_ids += images\n",
    "    "
   ]
  },
  {
   "cell_type": "code",
   "execution_count": 17,
   "id": "92973ed6",
   "metadata": {},
   "outputs": [
    {
     "data": {
      "text/plain": [
       "True"
      ]
     },
     "execution_count": 17,
     "metadata": {},
     "output_type": "execute_result"
    }
   ],
   "source": [
    "#check if both dicts align\n",
    "# list out keys and values separately\n",
    "a_key_list = list(dict_topic2img.keys())\n",
    "a_val_list = list(dict_topic2img.values())\n",
    "\n",
    "# list out keys and values separately\n",
    "b_key_list = list(generated_functions_dict_topic2imgGT.keys())\n",
    "b_val_list = list(generated_functions_dict_topic2imgGT.values())\n",
    "\n",
    "a_val_list == b_val_list"
   ]
  },
  {
   "cell_type": "code",
   "execution_count": 18,
   "id": "527368c4",
   "metadata": {},
   "outputs": [
    {
     "data": {
      "text/plain": [
       "45616"
      ]
     },
     "execution_count": 18,
     "metadata": {},
     "output_type": "execute_result"
    }
   ],
   "source": [
    "functions_list = []\n",
    "for topic_, images in generated_functions_dict_topic2imgGT.items():\n",
    "    functions_list += [topic_] * len(list(images))\n",
    "\n",
    "    \n",
    "len(functions_list)"
   ]
  },
  {
   "cell_type": "code",
   "execution_count": 19,
   "id": "3ccbbfaf",
   "metadata": {},
   "outputs": [
    {
     "data": {
      "text/plain": [
       "36754"
      ]
     },
     "execution_count": 19,
     "metadata": {},
     "output_type": "execute_result"
    }
   ],
   "source": [
    "import pickle\n",
    "with open(\"image2Llavacaption_dict.pkl\", 'rb') as f:\n",
    "    image2Llavacaption_dict = pickle.load(f)\n",
    "\n",
    "len(image2Llavacaption_dict)"
   ]
  },
  {
   "cell_type": "code",
   "execution_count": 1,
   "id": "1d026684",
   "metadata": {},
   "outputs": [],
   "source": [
    "# list(image2Llavacaption_dict.keys())[0].split()"
   ]
  },
  {
   "cell_type": "code",
   "execution_count": 21,
   "id": "937c2152",
   "metadata": {},
   "outputs": [],
   "source": [
    "llava_caption_list = []\n",
    "list_of_paths = [path_data + s for s in image_ids]\n",
    "for image_id in list_of_paths:\n",
    "    llava_cap = image2Llavacaption_dict[image_id]\n",
    "    llava_caption_list.append(llava_cap.split(':')[-1].lstrip())\n"
   ]
  },
  {
   "cell_type": "code",
   "execution_count": 22,
   "id": "e7fa0943",
   "metadata": {},
   "outputs": [
    {
     "data": {
      "text/plain": [
       "36754"
      ]
     },
     "execution_count": 22,
     "metadata": {},
     "output_type": "execute_result"
    }
   ],
   "source": [
    "import pickle\n",
    "with open(\"image2BLIPcaption_dict.pkl\", 'rb') as f:\n",
    "    image2BLIPcaption_dict = pickle.load(f)\n",
    "\n",
    "len(image2BLIPcaption_dict)"
   ]
  },
  {
   "cell_type": "code",
   "execution_count": 23,
   "id": "6c49f3e0",
   "metadata": {},
   "outputs": [],
   "source": [
    "blip_caption_list = []\n",
    "#list_of_paths = [path_data + s for s in image_ids]\n",
    "for image_id in list_of_paths:\n",
    "    blip_cap = image2BLIPcaption_dict[image_id]\n",
    "    blip_caption_list.append(blip_cap)\n"
   ]
  },
  {
   "cell_type": "code",
   "execution_count": 24,
   "id": "c706e833",
   "metadata": {
    "scrolled": true
   },
   "outputs": [
    {
     "name": "stdout",
     "output_type": "stream",
     "text": [
      "Length of topics: 45616\n",
      "Length of image ids: 45616\n",
      "Length of generated functions: 45616\n",
      "Length of Llava captions: 45616\n",
      "Length of BLIP captions: 45616\n"
     ]
    }
   ],
   "source": [
    "print(f\"Length of topics: {len(topics_list)}\")\n",
    "print(f\"Length of image ids: {len(image_ids)}\")\n",
    "print(f\"Length of generated functions: {len(functions_list)}\")\n",
    "print(f\"Length of Llava captions: {len(llava_caption_list)}\")\n",
    "print(f\"Length of BLIP captions: {len(blip_caption_list)}\")"
   ]
  },
  {
   "cell_type": "code",
   "execution_count": 76,
   "id": "4cd272c0",
   "metadata": {},
   "outputs": [
    {
     "data": {
      "text/html": [
       "<div>\n",
       "<style scoped>\n",
       "    .dataframe tbody tr th:only-of-type {\n",
       "        vertical-align: middle;\n",
       "    }\n",
       "\n",
       "    .dataframe tbody tr th {\n",
       "        vertical-align: top;\n",
       "    }\n",
       "\n",
       "    .dataframe thead th {\n",
       "        text-align: right;\n",
       "    }\n",
       "</style>\n",
       "<table border=\"1\" class=\"dataframe\">\n",
       "  <thead>\n",
       "    <tr style=\"text-align: right;\">\n",
       "      <th></th>\n",
       "      <th>topics</th>\n",
       "      <th>generated functions</th>\n",
       "      <th>Llava captions</th>\n",
       "      <th>BLIP captions</th>\n",
       "      <th>image ids</th>\n",
       "    </tr>\n",
       "  </thead>\n",
       "  <tbody>\n",
       "    <tr>\n",
       "      <th>0</th>\n",
       "      <td>family snapshots</td>\n",
       "      <td>This is a photo of memories of shared moments.</td>\n",
       "      <td>The image shows a framed photo of a young man,...</td>\n",
       "      <td>my son</td>\n",
       "      <td>assets/5d4be64dcf0b3a0f3f3436d1/5d4be64dcf0b3a...</td>\n",
       "    </tr>\n",
       "    <tr>\n",
       "      <th>1</th>\n",
       "      <td>family snapshots</td>\n",
       "      <td>This is a photo of memories of shared moments.</td>\n",
       "      <td>The image shows a group of people, including b...</td>\n",
       "      <td>a family with their photos</td>\n",
       "      <td>assets/5ec4f7d7f0611d7ddd74099d/5ec4f7d7f0611d...</td>\n",
       "    </tr>\n",
       "    <tr>\n",
       "      <th>2</th>\n",
       "      <td>family snapshots</td>\n",
       "      <td>This is a photo of memories of shared moments.</td>\n",
       "      <td>The image shows a group of people, including b...</td>\n",
       "      <td>a group of people</td>\n",
       "      <td>assets/5d4be150cf0b3a0f3f33adab/5d4be150cf0b3a...</td>\n",
       "    </tr>\n",
       "    <tr>\n",
       "      <th>3</th>\n",
       "      <td>family snapshots</td>\n",
       "      <td>This is a photo of memories of shared moments.</td>\n",
       "      <td>The image shows a group of young boys standing...</td>\n",
       "      <td>a group of children</td>\n",
       "      <td>assets/5d4bee16cf0b3a0f3f350d0a/5d4bee16cf0b3a...</td>\n",
       "    </tr>\n",
       "    <tr>\n",
       "      <th>4</th>\n",
       "      <td>family snapshots</td>\n",
       "      <td>This is a photo of memories of shared moments.</td>\n",
       "      <td>The image shows a group of people, including a...</td>\n",
       "      <td>a family with a man and woman and two children</td>\n",
       "      <td>assets/5ec4f54f3f62767d97a4730d/5ec4f54f3f6276...</td>\n",
       "    </tr>\n",
       "  </tbody>\n",
       "</table>\n",
       "</div>"
      ],
      "text/plain": [
       "             topics                             generated functions  \\\n",
       "0  family snapshots  This is a photo of memories of shared moments.   \n",
       "1  family snapshots  This is a photo of memories of shared moments.   \n",
       "2  family snapshots  This is a photo of memories of shared moments.   \n",
       "3  family snapshots  This is a photo of memories of shared moments.   \n",
       "4  family snapshots  This is a photo of memories of shared moments.   \n",
       "\n",
       "                                      Llava captions  \\\n",
       "0  The image shows a framed photo of a young man,...   \n",
       "1  The image shows a group of people, including b...   \n",
       "2  The image shows a group of people, including b...   \n",
       "3  The image shows a group of young boys standing...   \n",
       "4  The image shows a group of people, including a...   \n",
       "\n",
       "                                    BLIP captions  \\\n",
       "0                                          my son   \n",
       "1                      a family with their photos   \n",
       "2                               a group of people   \n",
       "3                             a group of children   \n",
       "4  a family with a man and woman and two children   \n",
       "\n",
       "                                           image ids  \n",
       "0  assets/5d4be64dcf0b3a0f3f3436d1/5d4be64dcf0b3a...  \n",
       "1  assets/5ec4f7d7f0611d7ddd74099d/5ec4f7d7f0611d...  \n",
       "2  assets/5d4be150cf0b3a0f3f33adab/5d4be150cf0b3a...  \n",
       "3  assets/5d4bee16cf0b3a0f3f350d0a/5d4bee16cf0b3a...  \n",
       "4  assets/5ec4f54f3f62767d97a4730d/5ec4f54f3f6276...  "
      ]
     },
     "execution_count": 76,
     "metadata": {},
     "output_type": "execute_result"
    }
   ],
   "source": [
    "dataset_v1 = pd.DataFrame()\n",
    "dataset_v1['topics'] = topics_list\n",
    "dataset_v1['generated functions'] = functions_list\n",
    "dataset_v1['Llava captions'] = llava_caption_list\n",
    "dataset_v1['BLIP captions'] = blip_caption_list\n",
    "dataset_v1['image ids'] = image_ids\n",
    "\n",
    "dataset_v1.head()"
   ]
  },
  {
   "cell_type": "code",
   "execution_count": 77,
   "id": "a0fe6404",
   "metadata": {},
   "outputs": [],
   "source": [
    "dataset_v1.to_csv('data/dollar_street_reannotated_dataset_v1.csv')"
   ]
  },
  {
   "cell_type": "code",
   "execution_count": 27,
   "id": "42d5b35a",
   "metadata": {},
   "outputs": [
    {
     "data": {
      "text/plain": [
       "45616"
      ]
     },
     "execution_count": 27,
     "metadata": {},
     "output_type": "execute_result"
    }
   ],
   "source": [
    "with open (\"llava_gpt4_generated_obj_dict.pkl\", \"rb\") as f:\n",
    "    llava_gpt4_generated_obj_dict = pickle.load(f)\n",
    "    \n",
    "\n",
    "len(llava_gpt4_generated_obj_dict)    "
   ]
  },
  {
   "cell_type": "code",
   "execution_count": 29,
   "id": "b82f4cbc",
   "metadata": {},
   "outputs": [
    {
     "data": {
      "text/plain": [
       "'assets/5d4be06acf0b3a0f3f3392fa/5d4be06acf0b3a0f3f3392fa.JPG'"
      ]
     },
     "execution_count": 29,
     "metadata": {},
     "output_type": "execute_result"
    }
   ],
   "source": [
    "image_ids[0]"
   ]
  },
  {
   "cell_type": "code",
   "execution_count": 33,
   "id": "ecc7de8d",
   "metadata": {},
   "outputs": [
    {
     "name": "stderr",
     "output_type": "stream",
     "text": [
      "45616it [00:00, 1049484.77it/s]\n"
     ]
    }
   ],
   "source": [
    "object_list = []\n",
    "for funct, im_id in tqdm.tqdm(zip(functions_list, image_ids)):\n",
    "    key = f\"{funct}_{path_data}{im_id}\"\n",
    "    object_list.append(llava_gpt4_generated_obj_dict[key])\n",
    "    "
   ]
  },
  {
   "cell_type": "code",
   "execution_count": 35,
   "id": "c5d64094",
   "metadata": {},
   "outputs": [
    {
     "data": {
      "text/plain": [
       "45616"
      ]
     },
     "execution_count": 35,
     "metadata": {},
     "output_type": "execute_result"
    }
   ],
   "source": [
    "len(object_list)"
   ]
  },
  {
   "cell_type": "code",
   "execution_count": 36,
   "id": "928c498b",
   "metadata": {},
   "outputs": [
    {
     "data": {
      "text/html": [
       "<div>\n",
       "<style scoped>\n",
       "    .dataframe tbody tr th:only-of-type {\n",
       "        vertical-align: middle;\n",
       "    }\n",
       "\n",
       "    .dataframe tbody tr th {\n",
       "        vertical-align: top;\n",
       "    }\n",
       "\n",
       "    .dataframe thead th {\n",
       "        text-align: right;\n",
       "    }\n",
       "</style>\n",
       "<table border=\"1\" class=\"dataframe\">\n",
       "  <thead>\n",
       "    <tr style=\"text-align: right;\">\n",
       "      <th></th>\n",
       "      <th>topics</th>\n",
       "      <th>generated functions</th>\n",
       "      <th>identified object</th>\n",
       "      <th>Llava captions</th>\n",
       "      <th>BLIP captions</th>\n",
       "      <th>image ids</th>\n",
       "    </tr>\n",
       "  </thead>\n",
       "  <tbody>\n",
       "    <tr>\n",
       "      <th>0</th>\n",
       "      <td>family snapshots</td>\n",
       "      <td>This is a photo of memories of shared moments.</td>\n",
       "      <td>The image.</td>\n",
       "      <td>The image shows a man and a woman standing nex...</td>\n",
       "      <td>my father and mother</td>\n",
       "      <td>assets/5d4be06acf0b3a0f3f3392fa/5d4be06acf0b3a...</td>\n",
       "    </tr>\n",
       "    <tr>\n",
       "      <th>1</th>\n",
       "      <td>family snapshots</td>\n",
       "      <td>This is a photo of memories of shared moments.</td>\n",
       "      <td>Camera</td>\n",
       "      <td>The image shows a group of people, including a...</td>\n",
       "      <td>a family posing for a photo</td>\n",
       "      <td>assets/5d4be0c4cf0b3a0f3f339d4f/5d4be0c4cf0b3a...</td>\n",
       "    </tr>\n",
       "    <tr>\n",
       "      <th>2</th>\n",
       "      <td>family snapshots</td>\n",
       "      <td>This is a photo of memories of shared moments.</td>\n",
       "      <td>Family photo display</td>\n",
       "      <td>The image shows a family photo display, which ...</td>\n",
       "      <td>a family with a heart shaped frame</td>\n",
       "      <td>assets/5ec4fb23f0611d7ddd742592/5ec4fb23f0611d...</td>\n",
       "    </tr>\n",
       "    <tr>\n",
       "      <th>3</th>\n",
       "      <td>family snapshots</td>\n",
       "      <td>This is a photo of memories of shared moments.</td>\n",
       "      <td>Photo</td>\n",
       "      <td>The image shows a refrigerator with various it...</td>\n",
       "      <td>a couple</td>\n",
       "      <td>assets/5d4bdf89cf0b3a0f3f337d07/5d4bdf89cf0b3a...</td>\n",
       "    </tr>\n",
       "    <tr>\n",
       "      <th>4</th>\n",
       "      <td>family snapshots</td>\n",
       "      <td>This is a photo of memories of shared moments.</td>\n",
       "      <td>Photo.</td>\n",
       "      <td>The image shows a small child sitting in a red...</td>\n",
       "      <td>a baby sitting on a table</td>\n",
       "      <td>assets/5ec4f8e5f0611d7ddd7412be/5ec4f8e5f0611d...</td>\n",
       "    </tr>\n",
       "  </tbody>\n",
       "</table>\n",
       "</div>"
      ],
      "text/plain": [
       "             topics                             generated functions  \\\n",
       "0  family snapshots  This is a photo of memories of shared moments.   \n",
       "1  family snapshots  This is a photo of memories of shared moments.   \n",
       "2  family snapshots  This is a photo of memories of shared moments.   \n",
       "3  family snapshots  This is a photo of memories of shared moments.   \n",
       "4  family snapshots  This is a photo of memories of shared moments.   \n",
       "\n",
       "      identified object                                     Llava captions  \\\n",
       "0            The image.  The image shows a man and a woman standing nex...   \n",
       "1                Camera  The image shows a group of people, including a...   \n",
       "2  Family photo display  The image shows a family photo display, which ...   \n",
       "3                 Photo  The image shows a refrigerator with various it...   \n",
       "4                Photo.  The image shows a small child sitting in a red...   \n",
       "\n",
       "                        BLIP captions  \\\n",
       "0                my father and mother   \n",
       "1         a family posing for a photo   \n",
       "2  a family with a heart shaped frame   \n",
       "3                            a couple   \n",
       "4           a baby sitting on a table   \n",
       "\n",
       "                                           image ids  \n",
       "0  assets/5d4be06acf0b3a0f3f3392fa/5d4be06acf0b3a...  \n",
       "1  assets/5d4be0c4cf0b3a0f3f339d4f/5d4be0c4cf0b3a...  \n",
       "2  assets/5ec4fb23f0611d7ddd742592/5ec4fb23f0611d...  \n",
       "3  assets/5d4bdf89cf0b3a0f3f337d07/5d4bdf89cf0b3a...  \n",
       "4  assets/5ec4f8e5f0611d7ddd7412be/5ec4f8e5f0611d...  "
      ]
     },
     "execution_count": 36,
     "metadata": {},
     "output_type": "execute_result"
    }
   ],
   "source": [
    "dataset_v2 = pd.DataFrame()\n",
    "dataset_v2['topics'] = topics_list\n",
    "dataset_v2['generated functions'] = functions_list\n",
    "dataset_v2['identified object'] = object_list\n",
    "dataset_v2['Llava captions'] = llava_caption_list\n",
    "dataset_v2['BLIP captions'] = blip_caption_list\n",
    "dataset_v2['image ids'] = image_ids\n",
    "\n",
    "dataset_v2.head()"
   ]
  },
  {
   "cell_type": "code",
   "execution_count": 37,
   "id": "a27390c2",
   "metadata": {},
   "outputs": [],
   "source": [
    "dataset_v2.to_csv('data/dollar_street_reannotated_dataset_v2.csv')"
   ]
  },
  {
   "cell_type": "markdown",
   "id": "00518cfd",
   "metadata": {},
   "source": [
    "## Add income"
   ]
  },
  {
   "cell_type": "code",
   "execution_count": 15,
   "id": "7a63973f",
   "metadata": {},
   "outputs": [],
   "source": [
    "dataset_v2 = pd.read_csv('data/dollar_street_reannotated_dataset_v2.csv')"
   ]
  },
  {
   "cell_type": "code",
   "execution_count": 26,
   "id": "466faa23",
   "metadata": {},
   "outputs": [
    {
     "data": {
      "text/plain": [
       "45616"
      ]
     },
     "execution_count": 26,
     "metadata": {},
     "output_type": "execute_result"
    }
   ],
   "source": [
    "id_list = dataset_v2['image ids'].tolist()\n",
    "income_list = [data[data['imageRelPath'] == i]['income'].item() for i in id_list]\n",
    "\n",
    "len(income_list)\n",
    "len(id_list)"
   ]
  },
  {
   "cell_type": "code",
   "execution_count": 25,
   "id": "878d423f",
   "metadata": {},
   "outputs": [
    {
     "data": {
      "text/plain": [
       "1569.0"
      ]
     },
     "execution_count": 25,
     "metadata": {},
     "output_type": "execute_result"
    }
   ],
   "source": [
    "data[data['imageRelPath'] == 'assets/5d4be06acf0b3a0f3f3392fa/5d4be06acf0b3a0f3f3392fa.JPG']['income'].item()"
   ]
  },
  {
   "cell_type": "code",
   "execution_count": 27,
   "id": "c2d12c83",
   "metadata": {},
   "outputs": [
    {
     "data": {
      "text/plain": [
       "1569.0"
      ]
     },
     "execution_count": 27,
     "metadata": {},
     "output_type": "execute_result"
    }
   ],
   "source": [
    "income_list[0]"
   ]
  },
  {
   "cell_type": "code",
   "execution_count": 28,
   "id": "70cb6bea",
   "metadata": {},
   "outputs": [],
   "source": [
    "dataset_v2['income'] = income_list\n",
    "\n",
    "dataset_v2.to_csv('data/dollar_street_reannotated_with_income_v2.csv')"
   ]
  },
  {
   "cell_type": "markdown",
   "id": "2bd3f6dd",
   "metadata": {},
   "source": [
    "## Add scores"
   ]
  },
  {
   "cell_type": "code",
   "execution_count": 31,
   "id": "86711087",
   "metadata": {},
   "outputs": [],
   "source": [
    "import pickle\n",
    "with open('data/dict_default_topic2score.pkl', 'rb') as f:\n",
    "    dict_default_topic2score = pickle.load(f)"
   ]
  },
  {
   "cell_type": "code",
   "execution_count": 32,
   "id": "beaf3e2f",
   "metadata": {},
   "outputs": [
    {
     "data": {
      "text/plain": [
       "270"
      ]
     },
     "execution_count": 32,
     "metadata": {},
     "output_type": "execute_result"
    }
   ],
   "source": [
    "len(dict_default_topic2score)"
   ]
  },
  {
   "cell_type": "code",
   "execution_count": 37,
   "id": "0b65009e",
   "metadata": {},
   "outputs": [],
   "source": [
    "#dict_default_topic2score['This is a photo of armchair']"
   ]
  },
  {
   "cell_type": "code",
   "execution_count": 41,
   "id": "6e41d4e3",
   "metadata": {},
   "outputs": [
    {
     "name": "stderr",
     "output_type": "stream",
     "text": [
      "100%|██████████| 270/270 [00:09<00:00, 29.73it/s]\n"
     ]
    }
   ],
   "source": [
    "temp_dict = {}\n",
    "for key, value in tqdm.tqdm(dict_default_topic2score.items()):\n",
    "    for values in value:\n",
    "        topic = key.replace(\"This is a photo of \",\"\")\n",
    "        score = values[0]\n",
    "        img_id= values[1]\n",
    "    \n",
    "        new_key = f\"{topic}_{img_id}\"\n",
    "        temp_dict[new_key] = score\n",
    "    "
   ]
  },
  {
   "cell_type": "code",
   "execution_count": 42,
   "id": "df37c9c7",
   "metadata": {},
   "outputs": [
    {
     "data": {
      "text/plain": [
       "9923580"
      ]
     },
     "execution_count": 42,
     "metadata": {},
     "output_type": "execute_result"
    }
   ],
   "source": [
    "len(temp_dict)"
   ]
  },
  {
   "cell_type": "code",
   "execution_count": 45,
   "id": "e3f39821",
   "metadata": {},
   "outputs": [
    {
     "name": "stderr",
     "output_type": "stream",
     "text": [
      "45616it [00:00, 1060402.55it/s]\n"
     ]
    }
   ],
   "source": [
    "score_list = []\n",
    "for topic, im_id in tqdm.tqdm(zip(dataset_v2['topics'].to_list(), dataset_v2['image ids'].to_list())):\n",
    "    key = f\"{topic}_{im_id}\"\n",
    "    score_list.append(temp_dict[key])\n",
    "    "
   ]
  },
  {
   "cell_type": "code",
   "execution_count": 46,
   "id": "cff94025",
   "metadata": {},
   "outputs": [],
   "source": [
    "dataset_v2['scores'] = score_list"
   ]
  },
  {
   "cell_type": "code",
   "execution_count": 47,
   "id": "ae1fa0f6",
   "metadata": {},
   "outputs": [
    {
     "data": {
      "text/html": [
       "<div>\n",
       "<style scoped>\n",
       "    .dataframe tbody tr th:only-of-type {\n",
       "        vertical-align: middle;\n",
       "    }\n",
       "\n",
       "    .dataframe tbody tr th {\n",
       "        vertical-align: top;\n",
       "    }\n",
       "\n",
       "    .dataframe thead th {\n",
       "        text-align: right;\n",
       "    }\n",
       "</style>\n",
       "<table border=\"1\" class=\"dataframe\">\n",
       "  <thead>\n",
       "    <tr style=\"text-align: right;\">\n",
       "      <th></th>\n",
       "      <th>Unnamed: 0</th>\n",
       "      <th>topics</th>\n",
       "      <th>generated functions</th>\n",
       "      <th>identified object</th>\n",
       "      <th>Llava captions</th>\n",
       "      <th>BLIP captions</th>\n",
       "      <th>image ids</th>\n",
       "      <th>income</th>\n",
       "      <th>scores</th>\n",
       "    </tr>\n",
       "  </thead>\n",
       "  <tbody>\n",
       "    <tr>\n",
       "      <th>0</th>\n",
       "      <td>0</td>\n",
       "      <td>family snapshots</td>\n",
       "      <td>This is a photo of memories of shared moments.</td>\n",
       "      <td>The image.</td>\n",
       "      <td>The image shows a man and a woman standing nex...</td>\n",
       "      <td>my father and mother</td>\n",
       "      <td>assets/5d4be06acf0b3a0f3f3392fa/5d4be06acf0b3a...</td>\n",
       "      <td>1569.0</td>\n",
       "      <td>0.268664</td>\n",
       "    </tr>\n",
       "    <tr>\n",
       "      <th>1</th>\n",
       "      <td>1</td>\n",
       "      <td>family snapshots</td>\n",
       "      <td>This is a photo of memories of shared moments.</td>\n",
       "      <td>Camera</td>\n",
       "      <td>The image shows a group of people, including a...</td>\n",
       "      <td>a family posing for a photo</td>\n",
       "      <td>assets/5d4be0c4cf0b3a0f3f339d4f/5d4be0c4cf0b3a...</td>\n",
       "      <td>2340.0</td>\n",
       "      <td>0.289939</td>\n",
       "    </tr>\n",
       "    <tr>\n",
       "      <th>2</th>\n",
       "      <td>2</td>\n",
       "      <td>family snapshots</td>\n",
       "      <td>This is a photo of memories of shared moments.</td>\n",
       "      <td>Family photo display</td>\n",
       "      <td>The image shows a family photo display, which ...</td>\n",
       "      <td>a family with a heart shaped frame</td>\n",
       "      <td>assets/5ec4fb23f0611d7ddd742592/5ec4fb23f0611d...</td>\n",
       "      <td>1963.0</td>\n",
       "      <td>0.284776</td>\n",
       "    </tr>\n",
       "    <tr>\n",
       "      <th>3</th>\n",
       "      <td>3</td>\n",
       "      <td>family snapshots</td>\n",
       "      <td>This is a photo of memories of shared moments.</td>\n",
       "      <td>Photo</td>\n",
       "      <td>The image shows a refrigerator with various it...</td>\n",
       "      <td>a couple</td>\n",
       "      <td>assets/5d4bdf89cf0b3a0f3f337d07/5d4bdf89cf0b3a...</td>\n",
       "      <td>6256.0</td>\n",
       "      <td>0.267767</td>\n",
       "    </tr>\n",
       "    <tr>\n",
       "      <th>4</th>\n",
       "      <td>4</td>\n",
       "      <td>family snapshots</td>\n",
       "      <td>This is a photo of memories of shared moments.</td>\n",
       "      <td>Photo.</td>\n",
       "      <td>The image shows a small child sitting in a red...</td>\n",
       "      <td>a baby sitting on a table</td>\n",
       "      <td>assets/5ec4f8e5f0611d7ddd7412be/5ec4f8e5f0611d...</td>\n",
       "      <td>251.0</td>\n",
       "      <td>0.241948</td>\n",
       "    </tr>\n",
       "  </tbody>\n",
       "</table>\n",
       "</div>"
      ],
      "text/plain": [
       "   Unnamed: 0            topics  \\\n",
       "0           0  family snapshots   \n",
       "1           1  family snapshots   \n",
       "2           2  family snapshots   \n",
       "3           3  family snapshots   \n",
       "4           4  family snapshots   \n",
       "\n",
       "                              generated functions     identified object  \\\n",
       "0  This is a photo of memories of shared moments.            The image.   \n",
       "1  This is a photo of memories of shared moments.                Camera   \n",
       "2  This is a photo of memories of shared moments.  Family photo display   \n",
       "3  This is a photo of memories of shared moments.                 Photo   \n",
       "4  This is a photo of memories of shared moments.                Photo.   \n",
       "\n",
       "                                      Llava captions  \\\n",
       "0  The image shows a man and a woman standing nex...   \n",
       "1  The image shows a group of people, including a...   \n",
       "2  The image shows a family photo display, which ...   \n",
       "3  The image shows a refrigerator with various it...   \n",
       "4  The image shows a small child sitting in a red...   \n",
       "\n",
       "                        BLIP captions  \\\n",
       "0                my father and mother   \n",
       "1         a family posing for a photo   \n",
       "2  a family with a heart shaped frame   \n",
       "3                            a couple   \n",
       "4           a baby sitting on a table   \n",
       "\n",
       "                                           image ids  income    scores  \n",
       "0  assets/5d4be06acf0b3a0f3f3392fa/5d4be06acf0b3a...  1569.0  0.268664  \n",
       "1  assets/5d4be0c4cf0b3a0f3f339d4f/5d4be0c4cf0b3a...  2340.0  0.289939  \n",
       "2  assets/5ec4fb23f0611d7ddd742592/5ec4fb23f0611d...  1963.0  0.284776  \n",
       "3  assets/5d4bdf89cf0b3a0f3f337d07/5d4bdf89cf0b3a...  6256.0  0.267767  \n",
       "4  assets/5ec4f8e5f0611d7ddd7412be/5ec4f8e5f0611d...   251.0  0.241948  "
      ]
     },
     "execution_count": 47,
     "metadata": {},
     "output_type": "execute_result"
    }
   ],
   "source": [
    "dataset_v2.head()"
   ]
  },
  {
   "cell_type": "code",
   "execution_count": 48,
   "id": "0ac4ee87",
   "metadata": {},
   "outputs": [],
   "source": [
    "dataset_v2.to_csv('data/dollar_street_reannotated_with_income_v2.csv')"
   ]
  },
  {
   "cell_type": "code",
   "execution_count": null,
   "id": "7b50ce49",
   "metadata": {},
   "outputs": [],
   "source": []
  }
 ],
 "metadata": {
  "kernelspec": {
   "display_name": "Python 3 (ipykernel)",
   "language": "python",
   "name": "python3"
  },
  "language_info": {
   "codemirror_mode": {
    "name": "ipython",
    "version": 3
   },
   "file_extension": ".py",
   "mimetype": "text/x-python",
   "name": "python",
   "nbconvert_exporter": "python",
   "pygments_lexer": "ipython3",
   "version": "3.10.9"
  }
 },
 "nbformat": 4,
 "nbformat_minor": 5
}
