{
 "cells": [
  {
   "cell_type": "code",
   "execution_count": 26,
   "id": "23c81d2d",
   "metadata": {},
   "outputs": [],
   "source": [
    "import pandas as pd\n",
    "import os\n",
    "import pickle\n",
    "from collections import Counter"
   ]
  },
  {
   "cell_type": "code",
   "execution_count": 39,
   "id": "adf1535b",
   "metadata": {},
   "outputs": [
    {
     "data": {
      "text/plain": [
       "272"
      ]
     },
     "execution_count": 39,
     "metadata": {},
     "output_type": "execute_result"
    }
   ],
   "source": [
    "import pickle\n",
    "with open(\"data/topic_dict_topic2FNimg.pkl\",\"rb\") as f:\n",
    "    topic_dict_topic2FNimg = pickle.load(f)\n",
    "\n",
    "len(topic_dict_topic2FNimg)"
   ]
  },
  {
   "cell_type": "code",
   "execution_count": 40,
   "id": "16b9357c",
   "metadata": {},
   "outputs": [],
   "source": [
    "performance_data = pd.read_csv('data/function_wise.csv')"
   ]
  },
  {
   "cell_type": "code",
   "execution_count": 35,
   "id": "efee9c5a",
   "metadata": {},
   "outputs": [],
   "source": [
    "topic_list = performance_data['topic']"
   ]
  },
  {
   "cell_type": "markdown",
   "id": "147f6e55",
   "metadata": {},
   "source": [
    " Aligning topic names"
   ]
  },
  {
   "cell_type": "code",
   "execution_count": 11,
   "id": "9e6bbf29",
   "metadata": {},
   "outputs": [],
   "source": [
    "a = set(list(topic_dict_topic2FNimg.keys())) - set(topic_list)"
   ]
  },
  {
   "cell_type": "code",
   "execution_count": 9,
   "id": "e9e19eb5",
   "metadata": {},
   "outputs": [
    {
     "data": {
      "text/plain": [
       "{'drainage', 'reading light', 'seeing the back of book', 'smells)', 'sofa'}"
      ]
     },
     "execution_count": 9,
     "metadata": {},
     "output_type": "execute_result"
    }
   ],
   "source": [
    "set(topic_list)- set(list(topic_dict_topic2FNimg.keys()))"
   ]
  },
  {
   "cell_type": "code",
   "execution_count": 10,
   "id": "65c1cbd7",
   "metadata": {},
   "outputs": [],
   "source": [
    "topic_dict_topic2FNimg['drainage'] = topic_dict_topic2FNimg[' drainage']\n",
    "topic_dict_topic2FNimg['reading light'] = topic_dict_topic2FNimg[' reading light']\n",
    "topic_dict_topic2FNimg['seeing the back of book'] = topic_dict_topic2FNimg[' seeing the back of book']\n",
    "topic_dict_topic2FNimg['smells)'] = topic_dict_topic2FNimg[' smells)']\n",
    "topic_dict_topic2FNimg['sofa'] = topic_dict_topic2FNimg[' sofa']"
   ]
  },
  {
   "cell_type": "code",
   "execution_count": 13,
   "id": "2d094445",
   "metadata": {},
   "outputs": [],
   "source": [
    "for t in a:\n",
    "    topic_dict_topic2FNimg.pop(t)"
   ]
  },
  {
   "cell_type": "code",
   "execution_count": 14,
   "id": "09720711",
   "metadata": {},
   "outputs": [
    {
     "data": {
      "text/plain": [
       "270"
      ]
     },
     "execution_count": 14,
     "metadata": {},
     "output_type": "execute_result"
    }
   ],
   "source": [
    "len(topic_dict_topic2FNimg)"
   ]
  },
  {
   "cell_type": "code",
   "execution_count": 31,
   "id": "1bb6c11c",
   "metadata": {},
   "outputs": [],
   "source": [
    "dict_topic2FNimg = topic_dict_topic2FNimg"
   ]
  },
  {
   "cell_type": "markdown",
   "id": "bfeb054b",
   "metadata": {},
   "source": [
    "Calaculating recall for topics"
   ]
  },
  {
   "cell_type": "code",
   "execution_count": 21,
   "id": "63c8257a",
   "metadata": {},
   "outputs": [],
   "source": [
    "data = pd.read_csv('data/clean_data.csv')"
   ]
  },
  {
   "cell_type": "code",
   "execution_count": 22,
   "id": "1a7da3fe",
   "metadata": {},
   "outputs": [
    {
     "name": "stdout",
     "output_type": "stream",
     "text": [
      "36754\n"
     ]
    }
   ],
   "source": [
    "# map each image to corresponding topics, countries, income level ... TODO\n",
    "dict_img2topic, dict_img2country, dict_img2incomelevel, dict_country2region = {}, {}, {}, {}\n",
    "for list_topics, image_path, country, incomelevel, region in zip(data['topics'], data['imageRelPath'], data['country.name'], data['quartile'], data['region.id']):\n",
    "    dict_img2topic[image_path] = list_topics\n",
    "    dict_img2country[image_path] = country\n",
    "    dict_img2incomelevel[image_path] = incomelevel\n",
    "    dict_country2region[country] = region\n",
    "\n",
    "print(len(dict_img2topic))"
   ]
  },
  {
   "cell_type": "code",
   "execution_count": 24,
   "id": "c64c29ca",
   "metadata": {},
   "outputs": [
    {
     "name": "stdout",
     "output_type": "stream",
     "text": [
      "270\n"
     ]
    }
   ],
   "source": [
    "# map each topic to list of corresponding images\n",
    "dict_topic2img = {}\n",
    "for list_topics, image_path in zip(data['topics'], data['imageRelPath']):\n",
    "    for topic in list_topics.split(\",\"):\n",
    "        topic = topic.lower().strip()\n",
    "        if topic not in dict_topic2img:\n",
    "            dict_topic2img[topic] = set() #### here a set was used in place of list to avoid duplicate where keyword appears twice in a topic\n",
    "        dict_topic2img[topic].add(image_path)\n",
    "\n",
    "print(len(dict_topic2img))"
   ]
  },
  {
   "cell_type": "code",
   "execution_count": 27,
   "id": "8d047d26",
   "metadata": {},
   "outputs": [],
   "source": [
    "list_all_incomelevelsGT = []\n",
    "dict_topic2GTIncomelevels = {}\n",
    "dict_all_incomelevels_GT = {}\n",
    "for topic in dict_topic2img:\n",
    "    list_imagesGT = dict_topic2img[topic]\n",
    "    list_incomelevelsGT = [dict_img2incomelevel[img] for img in list_imagesGT]\n",
    "    for incomelevel in list_incomelevelsGT:### Topics where Poor has higher Recall than other classes (Appendix)\n",
    "        list_all_incomelevelsGT.append(incomelevel)\n",
    "    #print(f\"topic: {topic}; {Counter(list_countriesFN)}\")\n",
    "    dict_topic2GTIncomelevels[topic] = Counter(list_incomelevelsGT)\n",
    "    \n",
    "#print(f\"ALL topics: {Counter(list_all_incomelevelsGT)}\")\n",
    "dict_all_incomelevels_GT = Counter(list_all_incomelevelsGT)"
   ]
  },
  {
   "cell_type": "code",
   "execution_count": 28,
   "id": "b9d871e7",
   "metadata": {},
   "outputs": [
    {
     "data": {
      "text/plain": [
       "270"
      ]
     },
     "execution_count": 28,
     "metadata": {},
     "output_type": "execute_result"
    }
   ],
   "source": [
    "dict_topic2GTrichvspoor = {}\n",
    "for topic, values in dict_topic2GTIncomelevels.items():\n",
    "    temp_dict = {}\n",
    "    temp_dict['low'] = values['poor'] + values['lower-middle']\n",
    "    temp_dict['high'] = values['rich'] + values['upper-middle']\n",
    "    \n",
    "    dict_topic2GTrichvspoor[topic] = temp_dict\n",
    "len(dict_topic2GTrichvspoor)"
   ]
  },
  {
   "cell_type": "code",
   "execution_count": 32,
   "id": "58fa6a02",
   "metadata": {},
   "outputs": [],
   "source": [
    "list_all_incomelevelsFN = []\n",
    "dict_topic2FNIncomelevels = {}\n",
    "dict_all_incomelevels_FN = {}\n",
    "for topic in dict_topic2FNimg:\n",
    "    list_imagesFN = dict_topic2FNimg[topic]\n",
    "    list_incomelevelsFN = [dict_img2incomelevel[img] for img in list_imagesFN]\n",
    "    for incomelevel in list_incomelevelsFN:\n",
    "        list_all_incomelevelsFN.append(incomelevel)\n",
    "    #print(f\"topic: {topic}; {Counter(list_countriesFN)}\")\n",
    "    dict_topic2FNIncomelevels[topic] = Counter(list_incomelevelsFN)\n",
    "    \n",
    "#print(f\"ALL topics: {Counter(list_all_incomelevelsFN)}\")\n",
    "dict_all_incomelevels_FN = Counter(list_all_incomelevelsFN)"
   ]
  },
  {
   "cell_type": "code",
   "execution_count": 33,
   "id": "c751e8cf",
   "metadata": {},
   "outputs": [
    {
     "data": {
      "text/plain": [
       "270"
      ]
     },
     "execution_count": 33,
     "metadata": {},
     "output_type": "execute_result"
    }
   ],
   "source": [
    "dict_topic2FNrichvspoor = {}\n",
    "for topic, values in dict_topic2FNIncomelevels.items():\n",
    "    temp_dict = {}\n",
    "    temp_dict['low'] = values['poor'] + values['lower-middle']\n",
    "    temp_dict['high'] = values['rich'] + values['upper-middle']\n",
    "    \n",
    "    dict_topic2FNrichvspoor[topic] = temp_dict\n",
    "len(dict_topic2FNrichvspoor)"
   ]
  },
  {
   "cell_type": "code",
   "execution_count": 34,
   "id": "8024917e",
   "metadata": {},
   "outputs": [],
   "source": [
    "Recall_perincomelevel_pertopic = {}\n",
    "for topic in dict_topic2FNrichvspoor:\n",
    "    FN_counter_ = dict_topic2FNrichvspoor[topic]\n",
    "    GT_counter_ = dict_topic2GTrichvspoor[topic]\n",
    "        \n",
    "    temp_recall_ratio_ = Counter({key : 1 - FN_counter_[key] / GT_counter_[key] for key in FN_counter_ if sum(GT_counter_.values()) * 0.01 <= GT_counter_[key] })\n",
    "    Recall_perincomelevel_pertopic[topic] = temp_recall_ratio_"
   ]
  },
  {
   "cell_type": "code",
   "execution_count": 41,
   "id": "7656a224",
   "metadata": {},
   "outputs": [],
   "source": [
    "t_list = topic_list\n",
    "topic_high = [round(Recall_perincomelevel_pertopic[topic]['high'], 2) for topic in t_list]\n",
    "topic_low = [round(Recall_perincomelevel_pertopic[topic]['low'], 2) for topic in t_list]\n",
    "\n",
    "\n",
    "\n",
    "performance_data['topic_low'] = topic_low\n",
    "performance_data['topic_high'] = topic_high"
   ]
  },
  {
   "cell_type": "code",
   "execution_count": 45,
   "id": "b5f348fa",
   "metadata": {},
   "outputs": [
    {
     "data": {
      "text/html": [
       "<div>\n",
       "<style scoped>\n",
       "    .dataframe tbody tr th:only-of-type {\n",
       "        vertical-align: middle;\n",
       "    }\n",
       "\n",
       "    .dataframe tbody tr th {\n",
       "        vertical-align: top;\n",
       "    }\n",
       "\n",
       "    .dataframe thead th {\n",
       "        text-align: right;\n",
       "    }\n",
       "</style>\n",
       "<table border=\"1\" class=\"dataframe\">\n",
       "  <thead>\n",
       "    <tr style=\"text-align: right;\">\n",
       "      <th></th>\n",
       "      <th>topic</th>\n",
       "      <th>function_low</th>\n",
       "      <th>function_high</th>\n",
       "      <th>topic_low</th>\n",
       "      <th>topic_high</th>\n",
       "    </tr>\n",
       "  </thead>\n",
       "  <tbody>\n",
       "    <tr>\n",
       "      <th>0</th>\n",
       "      <td>family snapshots</td>\n",
       "      <td>0.12</td>\n",
       "      <td>0.32</td>\n",
       "      <td>0.02</td>\n",
       "      <td>0.27</td>\n",
       "    </tr>\n",
       "    <tr>\n",
       "      <th>1</th>\n",
       "      <td>cutlery</td>\n",
       "      <td>0.39</td>\n",
       "      <td>0.52</td>\n",
       "      <td>0.36</td>\n",
       "      <td>0.60</td>\n",
       "    </tr>\n",
       "    <tr>\n",
       "      <th>2</th>\n",
       "      <td>family</td>\n",
       "      <td>0.63</td>\n",
       "      <td>0.48</td>\n",
       "      <td>0.23</td>\n",
       "      <td>0.47</td>\n",
       "    </tr>\n",
       "    <tr>\n",
       "      <th>3</th>\n",
       "      <td>place where eating dinner</td>\n",
       "      <td>0.03</td>\n",
       "      <td>0.17</td>\n",
       "      <td>0.14</td>\n",
       "      <td>0.47</td>\n",
       "    </tr>\n",
       "    <tr>\n",
       "      <th>4</th>\n",
       "      <td>plate of food</td>\n",
       "      <td>0.33</td>\n",
       "      <td>0.47</td>\n",
       "      <td>0.28</td>\n",
       "      <td>0.47</td>\n",
       "    </tr>\n",
       "  </tbody>\n",
       "</table>\n",
       "</div>"
      ],
      "text/plain": [
       "                       topic  function_low  function_high  topic_low  \\\n",
       "0           family snapshots          0.12           0.32       0.02   \n",
       "1                    cutlery          0.39           0.52       0.36   \n",
       "2                     family          0.63           0.48       0.23   \n",
       "3  place where eating dinner          0.03           0.17       0.14   \n",
       "4              plate of food          0.33           0.47       0.28   \n",
       "\n",
       "   topic_high  \n",
       "0        0.27  \n",
       "1        0.60  \n",
       "2        0.47  \n",
       "3        0.47  \n",
       "4        0.47  "
      ]
     },
     "execution_count": 45,
     "metadata": {},
     "output_type": "execute_result"
    }
   ],
   "source": [
    "\n",
    "performance_data = performance_data.drop(columns = ['Unnamed: 0'])\n",
    "performance_data.head()"
   ]
  },
  {
   "cell_type": "code",
   "execution_count": 46,
   "id": "f2cc31bf",
   "metadata": {},
   "outputs": [
    {
     "data": {
      "text/html": [
       "<div>\n",
       "<style scoped>\n",
       "    .dataframe tbody tr th:only-of-type {\n",
       "        vertical-align: middle;\n",
       "    }\n",
       "\n",
       "    .dataframe tbody tr th {\n",
       "        vertical-align: top;\n",
       "    }\n",
       "\n",
       "    .dataframe thead th {\n",
       "        text-align: right;\n",
       "    }\n",
       "</style>\n",
       "<table border=\"1\" class=\"dataframe\">\n",
       "  <thead>\n",
       "    <tr style=\"text-align: right;\">\n",
       "      <th></th>\n",
       "      <th>topic</th>\n",
       "      <th>function_low</th>\n",
       "      <th>function_high</th>\n",
       "      <th>topic_low</th>\n",
       "      <th>topic_high</th>\n",
       "      <th>gap_topic</th>\n",
       "      <th>gap_function</th>\n",
       "    </tr>\n",
       "  </thead>\n",
       "  <tbody>\n",
       "    <tr>\n",
       "      <th>0</th>\n",
       "      <td>family snapshots</td>\n",
       "      <td>0.12</td>\n",
       "      <td>0.32</td>\n",
       "      <td>0.02</td>\n",
       "      <td>0.27</td>\n",
       "      <td>0.25</td>\n",
       "      <td>0.20</td>\n",
       "    </tr>\n",
       "    <tr>\n",
       "      <th>1</th>\n",
       "      <td>cutlery</td>\n",
       "      <td>0.39</td>\n",
       "      <td>0.52</td>\n",
       "      <td>0.36</td>\n",
       "      <td>0.60</td>\n",
       "      <td>0.24</td>\n",
       "      <td>0.13</td>\n",
       "    </tr>\n",
       "    <tr>\n",
       "      <th>2</th>\n",
       "      <td>family</td>\n",
       "      <td>0.63</td>\n",
       "      <td>0.48</td>\n",
       "      <td>0.23</td>\n",
       "      <td>0.47</td>\n",
       "      <td>0.24</td>\n",
       "      <td>-0.15</td>\n",
       "    </tr>\n",
       "    <tr>\n",
       "      <th>3</th>\n",
       "      <td>place where eating dinner</td>\n",
       "      <td>0.03</td>\n",
       "      <td>0.17</td>\n",
       "      <td>0.14</td>\n",
       "      <td>0.47</td>\n",
       "      <td>0.33</td>\n",
       "      <td>0.14</td>\n",
       "    </tr>\n",
       "    <tr>\n",
       "      <th>4</th>\n",
       "      <td>plate of food</td>\n",
       "      <td>0.33</td>\n",
       "      <td>0.47</td>\n",
       "      <td>0.28</td>\n",
       "      <td>0.47</td>\n",
       "      <td>0.19</td>\n",
       "      <td>0.14</td>\n",
       "    </tr>\n",
       "  </tbody>\n",
       "</table>\n",
       "</div>"
      ],
      "text/plain": [
       "                       topic  function_low  function_high  topic_low  \\\n",
       "0           family snapshots          0.12           0.32       0.02   \n",
       "1                    cutlery          0.39           0.52       0.36   \n",
       "2                     family          0.63           0.48       0.23   \n",
       "3  place where eating dinner          0.03           0.17       0.14   \n",
       "4              plate of food          0.33           0.47       0.28   \n",
       "\n",
       "   topic_high  gap_topic  gap_function  \n",
       "0        0.27       0.25          0.20  \n",
       "1        0.60       0.24          0.13  \n",
       "2        0.47       0.24         -0.15  \n",
       "3        0.47       0.33          0.14  \n",
       "4        0.47       0.19          0.14  "
      ]
     },
     "execution_count": 46,
     "metadata": {},
     "output_type": "execute_result"
    }
   ],
   "source": [
    "performance_data['gap_topic'] = performance_data['topic_high'] - performance_data['topic_low']\n",
    "performance_data['gap_function'] = performance_data['function_high'] - performance_data['function_low']\n",
    "performance_data.head()"
   ]
  },
  {
   "cell_type": "code",
   "execution_count": 47,
   "id": "c5b789b6",
   "metadata": {},
   "outputs": [],
   "source": [
    "performance_data['delta_gap'] = performance_data['gap_topic'] - performance_data['gap_function']"
   ]
  },
  {
   "cell_type": "code",
   "execution_count": 48,
   "id": "611c1a8d",
   "metadata": {},
   "outputs": [
    {
     "data": {
      "text/html": [
       "<div>\n",
       "<style scoped>\n",
       "    .dataframe tbody tr th:only-of-type {\n",
       "        vertical-align: middle;\n",
       "    }\n",
       "\n",
       "    .dataframe tbody tr th {\n",
       "        vertical-align: top;\n",
       "    }\n",
       "\n",
       "    .dataframe thead th {\n",
       "        text-align: right;\n",
       "    }\n",
       "</style>\n",
       "<table border=\"1\" class=\"dataframe\">\n",
       "  <thead>\n",
       "    <tr style=\"text-align: right;\">\n",
       "      <th></th>\n",
       "      <th>topic</th>\n",
       "      <th>function_low</th>\n",
       "      <th>function_high</th>\n",
       "      <th>topic_low</th>\n",
       "      <th>topic_high</th>\n",
       "      <th>gap_topic</th>\n",
       "      <th>gap_function</th>\n",
       "      <th>delta_gap</th>\n",
       "    </tr>\n",
       "  </thead>\n",
       "  <tbody>\n",
       "    <tr>\n",
       "      <th>0</th>\n",
       "      <td>family snapshots</td>\n",
       "      <td>0.12</td>\n",
       "      <td>0.32</td>\n",
       "      <td>0.02</td>\n",
       "      <td>0.27</td>\n",
       "      <td>0.25</td>\n",
       "      <td>0.20</td>\n",
       "      <td>0.05</td>\n",
       "    </tr>\n",
       "    <tr>\n",
       "      <th>1</th>\n",
       "      <td>cutlery</td>\n",
       "      <td>0.39</td>\n",
       "      <td>0.52</td>\n",
       "      <td>0.36</td>\n",
       "      <td>0.60</td>\n",
       "      <td>0.24</td>\n",
       "      <td>0.13</td>\n",
       "      <td>0.11</td>\n",
       "    </tr>\n",
       "    <tr>\n",
       "      <th>2</th>\n",
       "      <td>family</td>\n",
       "      <td>0.63</td>\n",
       "      <td>0.48</td>\n",
       "      <td>0.23</td>\n",
       "      <td>0.47</td>\n",
       "      <td>0.24</td>\n",
       "      <td>-0.15</td>\n",
       "      <td>0.39</td>\n",
       "    </tr>\n",
       "    <tr>\n",
       "      <th>3</th>\n",
       "      <td>place where eating dinner</td>\n",
       "      <td>0.03</td>\n",
       "      <td>0.17</td>\n",
       "      <td>0.14</td>\n",
       "      <td>0.47</td>\n",
       "      <td>0.33</td>\n",
       "      <td>0.14</td>\n",
       "      <td>0.19</td>\n",
       "    </tr>\n",
       "    <tr>\n",
       "      <th>4</th>\n",
       "      <td>plate of food</td>\n",
       "      <td>0.33</td>\n",
       "      <td>0.47</td>\n",
       "      <td>0.28</td>\n",
       "      <td>0.47</td>\n",
       "      <td>0.19</td>\n",
       "      <td>0.14</td>\n",
       "      <td>0.05</td>\n",
       "    </tr>\n",
       "  </tbody>\n",
       "</table>\n",
       "</div>"
      ],
      "text/plain": [
       "                       topic  function_low  function_high  topic_low  \\\n",
       "0           family snapshots          0.12           0.32       0.02   \n",
       "1                    cutlery          0.39           0.52       0.36   \n",
       "2                     family          0.63           0.48       0.23   \n",
       "3  place where eating dinner          0.03           0.17       0.14   \n",
       "4              plate of food          0.33           0.47       0.28   \n",
       "\n",
       "   topic_high  gap_topic  gap_function  delta_gap  \n",
       "0        0.27       0.25          0.20       0.05  \n",
       "1        0.60       0.24          0.13       0.11  \n",
       "2        0.47       0.24         -0.15       0.39  \n",
       "3        0.47       0.33          0.14       0.19  \n",
       "4        0.47       0.19          0.14       0.05  "
      ]
     },
     "execution_count": 48,
     "metadata": {},
     "output_type": "execute_result"
    }
   ],
   "source": [
    "performance_data.head()"
   ]
  },
  {
   "cell_type": "code",
   "execution_count": 49,
   "id": "974d0dde",
   "metadata": {},
   "outputs": [
    {
     "data": {
      "text/plain": [
       "0.0924444444444445"
      ]
     },
     "execution_count": 49,
     "metadata": {},
     "output_type": "execute_result"
    }
   ],
   "source": [
    "sum(performance_data['delta_gap'])/len(performance_data['delta_gap'])"
   ]
  },
  {
   "cell_type": "code",
   "execution_count": 50,
   "id": "2a6c79e9",
   "metadata": {},
   "outputs": [
    {
     "data": {
      "text/plain": [
       "0.06000000000000001"
      ]
     },
     "execution_count": 50,
     "metadata": {},
     "output_type": "execute_result"
    }
   ],
   "source": [
    "performance_data['delta_gap'].median()"
   ]
  },
  {
   "cell_type": "code",
   "execution_count": 51,
   "id": "81250456",
   "metadata": {},
   "outputs": [],
   "source": [
    "from scipy.stats import wilcoxon"
   ]
  },
  {
   "cell_type": "code",
   "execution_count": 52,
   "id": "833c6b0e",
   "metadata": {},
   "outputs": [],
   "source": [
    "delta_gap = performance_data['delta_gap']"
   ]
  },
  {
   "cell_type": "code",
   "execution_count": 57,
   "id": "0857b437",
   "metadata": {},
   "outputs": [
    {
     "name": "stdout",
     "output_type": "stream",
     "text": [
      "Median gap reduction = 0.060, p = 1.6232759967121248e-17\n"
     ]
    }
   ],
   "source": [
    "# Wilcoxon signed-rank\n",
    "stat, p_value = wilcoxon(delta_gap, alternative='greater')\n",
    "print(f\"Median gap reduction = {delta_gap.median():.3f}, p = {p_value:}\")"
   ]
  },
  {
   "cell_type": "code",
   "execution_count": 55,
   "id": "775a1244",
   "metadata": {},
   "outputs": [],
   "source": [
    "from scipy.stats import ranksums"
   ]
  },
  {
   "cell_type": "code",
   "execution_count": 56,
   "id": "99d4d695",
   "metadata": {},
   "outputs": [
    {
     "data": {
      "text/plain": [
       "RanksumsResult(statistic=6.272300919269884, pvalue=1.7787558716582637e-10)"
      ]
     },
     "execution_count": 56,
     "metadata": {},
     "output_type": "execute_result"
    }
   ],
   "source": [
    "ranksums(list(performance_data['gap_topic']), list(performance_data['gap_function']), alternative='greater')"
   ]
  },
  {
   "cell_type": "code",
   "execution_count": null,
   "id": "f3ac968d",
   "metadata": {},
   "outputs": [],
   "source": []
  }
 ],
 "metadata": {
  "kernelspec": {
   "display_name": "Python 3 (ipykernel)",
   "language": "python",
   "name": "python3"
  },
  "language_info": {
   "codemirror_mode": {
    "name": "ipython",
    "version": 3
   },
   "file_extension": ".py",
   "mimetype": "text/x-python",
   "name": "python",
   "nbconvert_exporter": "python",
   "pygments_lexer": "ipython3",
   "version": "3.10.9"
  }
 },
 "nbformat": 4,
 "nbformat_minor": 5
}
