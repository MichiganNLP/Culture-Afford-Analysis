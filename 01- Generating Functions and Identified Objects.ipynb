{
 "cells": [
  {
   "cell_type": "code",
   "execution_count": 1,
   "id": "ff43253d",
   "metadata": {},
   "outputs": [],
   "source": [
    "path_data = '/'"
   ]
  },
  {
   "cell_type": "code",
   "execution_count": 2,
   "id": "fbb1c522",
   "metadata": {},
   "outputs": [
    {
     "name": "stdout",
     "output_type": "stream",
     "text": [
      "Torch version: 2.2.1+cu121\n"
     ]
    }
   ],
   "source": [
    "import numpy as np\n",
    "import pandas as pd\n",
    "import matplotlib.pyplot as plt\n",
    "import seaborn as sns \n",
    "import warnings\n",
    "warnings.filterwarnings(\"ignore\")\n",
    "import os\n",
    "from collections import Counter\n",
    "import pandas as pd\n",
    "\n",
    "import torch\n",
    "from pkg_resources import packaging\n",
    "from PIL import Image\n",
    "import tqdm\n",
    "from pathlib import Path\n",
    "print(\"Torch version:\", torch.__version__)\n",
    "\n",
    "from PIL import ImageFile\n",
    "ImageFile.LOAD_TRUNCATED_IMAGES = True\n",
    "\n",
    "plt.style.use('ggplot')"
   ]
  },
  {
   "cell_type": "code",
   "execution_count": 3,
   "id": "4c14e84c",
   "metadata": {},
   "outputs": [],
   "source": [
    "data_unfiltered = pd.read_csv(\"/\".join([path_data, \"images_v2.csv\"]))\n"
   ]
  },
  {
   "cell_type": "code",
   "execution_count": 4,
   "id": "f79fed69",
   "metadata": {},
   "outputs": [
    {
     "data": {
      "text/plain": [
       "38479"
      ]
     },
     "execution_count": 4,
     "metadata": {},
     "output_type": "execute_result"
    }
   ],
   "source": [
    "len(data_unfiltered)"
   ]
  },
  {
   "cell_type": "markdown",
   "id": "f7c8d061",
   "metadata": {},
   "source": [
    "### Remove subjective topics"
   ]
  },
  {
   "cell_type": "code",
   "execution_count": 5,
   "id": "e6c18806",
   "metadata": {},
   "outputs": [],
   "source": [
    "subjective_topics = ['Favorite home decorations', 'Favourite item in kitchen', 'Favourite sports clubs', 'How the most loved item is used', 'icons', 'Idols', 'Latest furniture bought', ' looking over the shoulder', 'Most loved item', 'Most loved toy', 'Most played songs on the radio', 'Music idol', 'Next big thing you are planning to buy', 'Playing with most loved toy', 'Thing I dream about having', 'Things I wish I had', 'Using most loved item', 'Youth culture', 'What I wish I could buy']"
   ]
  },
  {
   "cell_type": "code",
   "execution_count": 6,
   "id": "377f14b7",
   "metadata": {},
   "outputs": [],
   "source": [
    "unique_topics = data_unfiltered['topics'].unique()"
   ]
  },
  {
   "cell_type": "code",
   "execution_count": 7,
   "id": "ec2c83fa",
   "metadata": {},
   "outputs": [],
   "source": [
    "Subjective_topic_list = []\n",
    "\n",
    "for topic in unique_topics:\n",
    "    topic_ = topic.replace('/ ', ', ')\n",
    "    topic_split = topic_.split(',')\n",
    "    for split in topic_split:\n",
    "        if split in subjective_topics:\n",
    "            Subjective_topic_list.append(topic)"
   ]
  },
  {
   "cell_type": "code",
   "execution_count": 8,
   "id": "d4d490bb",
   "metadata": {},
   "outputs": [
    {
     "data": {
      "text/html": [
       "<div>\n",
       "<style scoped>\n",
       "    .dataframe tbody tr th:only-of-type {\n",
       "        vertical-align: middle;\n",
       "    }\n",
       "\n",
       "    .dataframe tbody tr th {\n",
       "        vertical-align: top;\n",
       "    }\n",
       "\n",
       "    .dataframe thead th {\n",
       "        text-align: right;\n",
       "    }\n",
       "</style>\n",
       "<table border=\"1\" class=\"dataframe\">\n",
       "  <thead>\n",
       "    <tr style=\"text-align: right;\">\n",
       "      <th></th>\n",
       "      <th>id</th>\n",
       "      <th>country.name</th>\n",
       "      <th>country.id</th>\n",
       "      <th>region.id</th>\n",
       "      <th>type</th>\n",
       "      <th>imageRelPath</th>\n",
       "      <th>topics</th>\n",
       "      <th>place</th>\n",
       "      <th>income</th>\n",
       "    </tr>\n",
       "  </thead>\n",
       "  <tbody>\n",
       "    <tr>\n",
       "      <th>1</th>\n",
       "      <td>5d4bf31ccf0b3a0f3f359814</td>\n",
       "      <td>Burundi</td>\n",
       "      <td>bi</td>\n",
       "      <td>af</td>\n",
       "      <td>image</td>\n",
       "      <td>assets/5d4bf31ccf0b3a0f3f359814/5d4bf31ccf0b3a...</td>\n",
       "      <td>Family snapshots</td>\n",
       "      <td>butoyi</td>\n",
       "      <td>26.994581</td>\n",
       "    </tr>\n",
       "    <tr>\n",
       "      <th>2</th>\n",
       "      <td>5d4bf31ccf0b3a0f3f35982a</td>\n",
       "      <td>Burundi</td>\n",
       "      <td>bi</td>\n",
       "      <td>af</td>\n",
       "      <td>image</td>\n",
       "      <td>assets/5d4bf31ccf0b3a0f3f35982a/5d4bf31ccf0b3a...</td>\n",
       "      <td>Cutlery</td>\n",
       "      <td>butoyi</td>\n",
       "      <td>26.994581</td>\n",
       "    </tr>\n",
       "    <tr>\n",
       "      <th>3</th>\n",
       "      <td>5d4bf31ccf0b3a0f3f35982e</td>\n",
       "      <td>Burundi</td>\n",
       "      <td>bi</td>\n",
       "      <td>af</td>\n",
       "      <td>image</td>\n",
       "      <td>assets/5d4bf31ccf0b3a0f3f35982e/5d4bf31ccf0b3a...</td>\n",
       "      <td>Family</td>\n",
       "      <td>butoyi</td>\n",
       "      <td>26.994581</td>\n",
       "    </tr>\n",
       "    <tr>\n",
       "      <th>4</th>\n",
       "      <td>5d4bf31ccf0b3a0f3f359830</td>\n",
       "      <td>Burundi</td>\n",
       "      <td>bi</td>\n",
       "      <td>af</td>\n",
       "      <td>image</td>\n",
       "      <td>assets/5d4bf31ccf0b3a0f3f359830/5d4bf31ccf0b3a...</td>\n",
       "      <td>Place where eating dinner</td>\n",
       "      <td>butoyi</td>\n",
       "      <td>26.994581</td>\n",
       "    </tr>\n",
       "    <tr>\n",
       "      <th>5</th>\n",
       "      <td>5d4bf31dcf0b3a0f3f35983c</td>\n",
       "      <td>Burundi</td>\n",
       "      <td>bi</td>\n",
       "      <td>af</td>\n",
       "      <td>image</td>\n",
       "      <td>assets/5d4bf31dcf0b3a0f3f35983c/5d4bf31dcf0b3a...</td>\n",
       "      <td>Plate of food</td>\n",
       "      <td>butoyi</td>\n",
       "      <td>26.994581</td>\n",
       "    </tr>\n",
       "    <tr>\n",
       "      <th>...</th>\n",
       "      <td>...</td>\n",
       "      <td>...</td>\n",
       "      <td>...</td>\n",
       "      <td>...</td>\n",
       "      <td>...</td>\n",
       "      <td>...</td>\n",
       "      <td>...</td>\n",
       "      <td>...</td>\n",
       "      <td>...</td>\n",
       "    </tr>\n",
       "    <tr>\n",
       "      <th>38474</th>\n",
       "      <td>5ec4f5513f62767d97a47324</td>\n",
       "      <td>France</td>\n",
       "      <td>fr</td>\n",
       "      <td>eu</td>\n",
       "      <td>image</td>\n",
       "      <td>assets/5ec4f5513f62767d97a47324/5ec4f5513f6276...</td>\n",
       "      <td>Bed</td>\n",
       "      <td>larriere</td>\n",
       "      <td>19671.000000</td>\n",
       "    </tr>\n",
       "    <tr>\n",
       "      <th>38475</th>\n",
       "      <td>5ec4f5513f62767d97a47325</td>\n",
       "      <td>France</td>\n",
       "      <td>fr</td>\n",
       "      <td>eu</td>\n",
       "      <td>image</td>\n",
       "      <td>assets/5ec4f5513f62767d97a47325/5ec4f5513f6276...</td>\n",
       "      <td>Bathroom/Toilet</td>\n",
       "      <td>larriere</td>\n",
       "      <td>19671.000000</td>\n",
       "    </tr>\n",
       "    <tr>\n",
       "      <th>38476</th>\n",
       "      <td>5ec4f5523f62767d97a47327</td>\n",
       "      <td>France</td>\n",
       "      <td>fr</td>\n",
       "      <td>eu</td>\n",
       "      <td>image</td>\n",
       "      <td>assets/5ec4f5523f62767d97a47327/5ec4f5523f6276...</td>\n",
       "      <td>Armchair</td>\n",
       "      <td>larriere</td>\n",
       "      <td>19671.000000</td>\n",
       "    </tr>\n",
       "    <tr>\n",
       "      <th>38477</th>\n",
       "      <td>5ec4f5523f62767d97a47328</td>\n",
       "      <td>France</td>\n",
       "      <td>fr</td>\n",
       "      <td>eu</td>\n",
       "      <td>image</td>\n",
       "      <td>assets/5ec4f5523f62767d97a47328/5ec4f5523f6276...</td>\n",
       "      <td>Armchair</td>\n",
       "      <td>larriere</td>\n",
       "      <td>19671.000000</td>\n",
       "    </tr>\n",
       "    <tr>\n",
       "      <th>38478</th>\n",
       "      <td>5ecfdf1f581a3d02cf7f8c05</td>\n",
       "      <td>France</td>\n",
       "      <td>fr</td>\n",
       "      <td>eu</td>\n",
       "      <td>image</td>\n",
       "      <td>assets/5ecfdf1f581a3d02cf7f8c05/5ecfdf1f581a3d...</td>\n",
       "      <td>Family</td>\n",
       "      <td>larriere</td>\n",
       "      <td>19671.000000</td>\n",
       "    </tr>\n",
       "  </tbody>\n",
       "</table>\n",
       "<p>36754 rows × 9 columns</p>\n",
       "</div>"
      ],
      "text/plain": [
       "                             id country.name country.id region.id   type  \\\n",
       "1      5d4bf31ccf0b3a0f3f359814      Burundi         bi        af  image   \n",
       "2      5d4bf31ccf0b3a0f3f35982a      Burundi         bi        af  image   \n",
       "3      5d4bf31ccf0b3a0f3f35982e      Burundi         bi        af  image   \n",
       "4      5d4bf31ccf0b3a0f3f359830      Burundi         bi        af  image   \n",
       "5      5d4bf31dcf0b3a0f3f35983c      Burundi         bi        af  image   \n",
       "...                         ...          ...        ...       ...    ...   \n",
       "38474  5ec4f5513f62767d97a47324       France         fr        eu  image   \n",
       "38475  5ec4f5513f62767d97a47325       France         fr        eu  image   \n",
       "38476  5ec4f5523f62767d97a47327       France         fr        eu  image   \n",
       "38477  5ec4f5523f62767d97a47328       France         fr        eu  image   \n",
       "38478  5ecfdf1f581a3d02cf7f8c05       France         fr        eu  image   \n",
       "\n",
       "                                            imageRelPath  \\\n",
       "1      assets/5d4bf31ccf0b3a0f3f359814/5d4bf31ccf0b3a...   \n",
       "2      assets/5d4bf31ccf0b3a0f3f35982a/5d4bf31ccf0b3a...   \n",
       "3      assets/5d4bf31ccf0b3a0f3f35982e/5d4bf31ccf0b3a...   \n",
       "4      assets/5d4bf31ccf0b3a0f3f359830/5d4bf31ccf0b3a...   \n",
       "5      assets/5d4bf31dcf0b3a0f3f35983c/5d4bf31dcf0b3a...   \n",
       "...                                                  ...   \n",
       "38474  assets/5ec4f5513f62767d97a47324/5ec4f5513f6276...   \n",
       "38475  assets/5ec4f5513f62767d97a47325/5ec4f5513f6276...   \n",
       "38476  assets/5ec4f5523f62767d97a47327/5ec4f5523f6276...   \n",
       "38477  assets/5ec4f5523f62767d97a47328/5ec4f5523f6276...   \n",
       "38478  assets/5ecfdf1f581a3d02cf7f8c05/5ecfdf1f581a3d...   \n",
       "\n",
       "                          topics     place        income  \n",
       "1               Family snapshots    butoyi     26.994581  \n",
       "2                        Cutlery    butoyi     26.994581  \n",
       "3                         Family    butoyi     26.994581  \n",
       "4      Place where eating dinner    butoyi     26.994581  \n",
       "5                  Plate of food    butoyi     26.994581  \n",
       "...                          ...       ...           ...  \n",
       "38474                        Bed  larriere  19671.000000  \n",
       "38475            Bathroom/Toilet  larriere  19671.000000  \n",
       "38476                   Armchair  larriere  19671.000000  \n",
       "38477                   Armchair  larriere  19671.000000  \n",
       "38478                     Family  larriere  19671.000000  \n",
       "\n",
       "[36754 rows x 9 columns]"
      ]
     },
     "metadata": {},
     "output_type": "display_data"
    }
   ],
   "source": [
    "data = data_unfiltered[~data_unfiltered['topics'].isin(Subjective_topic_list)]\n",
    "display(data)"
   ]
  },
  {
   "cell_type": "code",
   "execution_count": 9,
   "id": "964d0123",
   "metadata": {},
   "outputs": [
    {
     "data": {
      "text/plain": [
       "36754"
      ]
     },
     "execution_count": 9,
     "metadata": {},
     "output_type": "execute_result"
    }
   ],
   "source": [
    "len(data)"
   ]
  },
  {
   "cell_type": "markdown",
   "id": "eed9dd80",
   "metadata": {},
   "source": [
    "### Split topics"
   ]
  },
  {
   "cell_type": "code",
   "execution_count": 10,
   "id": "3903710d",
   "metadata": {
    "scrolled": true
   },
   "outputs": [
    {
     "name": "stdout",
     "output_type": "stream",
     "text": [
      "45692\n",
      "270\n"
     ]
    }
   ],
   "source": [
    "from collections import Counter\n",
    "list_topics = list(data['topics'])\n",
    "\n",
    "\n",
    "separate_topics = [t.lower().strip() for topic in list_topics for t in topic.split(\",\") ]\n",
    "\n",
    "\n",
    "print(len(separate_topics))\n",
    "#print(Counter(separate_topics))\n",
    "set_topics = list(set(separate_topics))\n",
    "print(len(set_topics))"
   ]
  },
  {
   "cell_type": "code",
   "execution_count": 86,
   "id": "ae6fbeeb",
   "metadata": {},
   "outputs": [
    {
     "name": "stdout",
     "output_type": "stream",
     "text": [
      "270\n"
     ]
    }
   ],
   "source": [
    "# map each topic to list of corresponding images\n",
    "dict_topic2img = {}\n",
    "for list_topics, image_path in zip(data['topics'], data['imageRelPath']):\n",
    "    for topic in list_topics.split(\",\"):\n",
    "        topic = topic.lower().strip()\n",
    "        if topic not in dict_topic2img:\n",
    "            dict_topic2img[topic] = set() #### here a set was used in place of list to avoid duplicate where keyword appears twice in a topic\n",
    "        dict_topic2img[topic].add(image_path)\n",
    "\n",
    "print(len(dict_topic2img))"
   ]
  },
  {
   "cell_type": "code",
   "execution_count": 87,
   "id": "58681a22",
   "metadata": {},
   "outputs": [
    {
     "name": "stdout",
     "output_type": "stream",
     "text": [
      "45616\n"
     ]
    }
   ],
   "source": [
    "#sanity checks \n",
    "\n",
    "ground_truth_counts = [len(dict_topic2img[i]) for i in dict_topic2img]\n",
    "print(sum(ground_truth_counts))"
   ]
  },
  {
   "cell_type": "code",
   "execution_count": 88,
   "id": "cd8f6afc",
   "metadata": {},
   "outputs": [],
   "source": [
    "topics = dict_topic2img.keys()"
   ]
  },
  {
   "cell_type": "code",
   "execution_count": 89,
   "id": "58f62f22",
   "metadata": {},
   "outputs": [
    {
     "data": {
      "text/plain": [
       "270"
      ]
     },
     "execution_count": 89,
     "metadata": {},
     "output_type": "execute_result"
    }
   ],
   "source": [
    "len(topics)"
   ]
  },
  {
   "cell_type": "code",
   "execution_count": null,
   "id": "d990669c",
   "metadata": {},
   "outputs": [],
   "source": []
  },
  {
   "cell_type": "markdown",
   "id": "1c911d54",
   "metadata": {},
   "source": [
    "### Generated Functions"
   ]
  },
  {
   "cell_type": "code",
   "execution_count": 51,
   "id": "2cc46478",
   "metadata": {},
   "outputs": [],
   "source": [
    "import openai\n",
    "import re\n",
    "openai.api_key = \" \"\n",
    "from openai import OpenAI\n",
    "client = OpenAI(api_key = openai.api_key)"
   ]
  },
  {
   "cell_type": "code",
   "execution_count": 53,
   "id": "fb7ccb0d",
   "metadata": {},
   "outputs": [],
   "source": [
    "def get_definition(obj):\n",
    "    '''gets functional definition of one object from gpt4'''\n",
    "    \n",
    "    response = client.chat.completions.create(\n",
    "    messages=[{\n",
    "        \"role\": \"user\",\n",
    "        \"content\": f\"A bed is an object that provides a place to sleep. Following the above example, In one short sentence, state what function the object '{obj}' does.\",\n",
    "    }],\n",
    "    model=\"gpt-4o\",)\n",
    "    \n",
    "    return response.choices[0].message.content\n",
    "    "
   ]
  },
  {
   "cell_type": "code",
   "execution_count": 54,
   "id": "336eaf84",
   "metadata": {},
   "outputs": [],
   "source": [
    "def define_object_list(object_list):\n",
    "    '''gets functional definition of objects in object list from gpt4'''\n",
    "    \n",
    "    function_list = []\n",
    "    for obj in tqdm.tqdm(object_list):\n",
    "        function = get_definition(obj)\n",
    "        function_list.append(function)\n",
    "        \n",
    "    return function_list"
   ]
  },
  {
   "cell_type": "code",
   "execution_count": 59,
   "id": "dbdd3c78",
   "metadata": {},
   "outputs": [],
   "source": [
    "ob_topics = list(topics)"
   ]
  },
  {
   "cell_type": "code",
   "execution_count": 60,
   "id": "2cc0ec1e",
   "metadata": {},
   "outputs": [
    {
     "name": "stderr",
     "output_type": "stream",
     "text": [
      "100%|██████████| 270/270 [02:27<00:00,  1.83it/s]\n"
     ]
    }
   ],
   "source": [
    "function_list = define_object_list(ob_topics)"
   ]
  },
  {
   "cell_type": "code",
   "execution_count": 136,
   "id": "75f5e573",
   "metadata": {},
   "outputs": [
    {
     "data": {
      "text/plain": [
       "['Family snapshots capture and preserve memories of shared moments.',\n",
       " 'Cutlery is a set of utensils used for eating and serving food.',\n",
       " 'A family provides support and nurturing.',\n",
       " 'A dining table is an object that provides a place to eat dinner.',\n",
       " 'A plate of food provides nourishment and sustenance.',\n",
       " 'A table with food provides a place to eat.',\n",
       " 'A water dispenser is an object that provides a way to access drinking water.',\n",
       " 'A stove/hob is an object that provides a surface for cooking food.',\n",
       " 'A light source in the kitchen provides illumination for cooking and other activities.',\n",
       " 'Drinking water hydrates and sustains bodily functions.',\n",
       " 'A kitchen sink is an object that provides a place to wash dishes and hands.',\n",
       " 'A bathroom provides a private space for personal hygiene activities.',\n",
       " 'A backyard provides an outdoor space for recreation and relaxation.',\n",
       " 'A front door provides entry and exit to a building.',\n",
       " 'A home is an object that provides a place to live.',\n",
       " 'A source of cool is an object that provides a means to lower temperature.',\n",
       " 'Street view provides a visual representation of real-world locations.',\n",
       " 'Teeth are objects that help in chewing food.',\n",
       " 'A hand back is not a standard object with a widely recognized function, so its function may depend on the context in which it is used. Could you please provide more context or clarification?',\n",
       " 'A hand palm facilitates grasping and manipulating objects.',\n",
       " 'A pet provides companionship and emotional support.',\n",
       " 'A bedroom is a space designed for resting and sleeping.',\n",
       " 'Grains provide nourishment and energy through their consumption.',\n",
       " 'A wardrobe is an object that provides storage for clothes.',\n",
       " 'An armchair is an object that provides a place to sit comfortably.',\n",
       " 'A hallway provides a passageway to move between different rooms or areas.',\n",
       " 'A kitchen is a space that provides a place to prepare and cook food.',\n",
       " 'Books provide a source of information and entertainment.',\n",
       " 'Everyday shoes provide protection and comfort for the feet during daily activities.',\n",
       " 'Hand washing is an action that cleans and sanitizes the hands.',\n",
       " 'Trash/waste serves the function of disposing of unwanted or used items.',\n",
       " 'Tools are objects that facilitate the performance of tasks.',\n",
       " 'A hair brush/comb is an object that helps to detangle and style hair.',\n",
       " 'Street detail enhances the aesthetic and functional aspects of urban environments.',\n",
       " 'Soap for hands and body cleans and removes dirt and germs from the skin.',\n",
       " 'Shampoo is a substance that cleanses hair and scalp.',\n",
       " 'A vegetable plot serves as a designated area for growing vegetables.',\n",
       " 'A roof is an object that provides shelter and protection from the elements.',\n",
       " 'A toilet is an object that provides a place for waste elimination.',\n",
       " 'Spices enhance the flavor of food.',\n",
       " 'Salt is a substance that enhances the flavor of food.',\n",
       " 'Jewelry is an object that serves as a form of personal adornment.',\n",
       " 'Cooking utensils are tools that assist in preparing and cooking food.',\n",
       " 'A dishwashing brush/cloth is an object that is used to clean dishes.',\n",
       " 'Cooking pots are objects that provide a means to cook food.',\n",
       " 'Plates are objects that provide a surface to hold and serve food.',\n",
       " 'Cups/mugs/glasses are objects that hold and allow consumption of beverages.',\n",
       " 'A wall is an object that provides structure and separation within a space.',\n",
       " 'Cattle are animals that provide milk, meat, and labor.',\n",
       " 'A ceiling is an object that provides overhead cover for a room.',\n",
       " 'A bed offers a surface for resting and sleeping.',\n",
       " 'A storage room is a space that provides a place to store items.',\n",
       " 'A refrigerator is an object that keeps food and beverages cold.',\n",
       " 'A floor provides a surface for walking or supporting objects.',\n",
       " 'A wall inside a building divides spaces and provides structural support.',\n",
       " 'Toothpaste is an object that cleans and maintains dental hygiene.',\n",
       " 'A toothbrush is an object that cleans teeth and gums.',\n",
       " 'Goats provide milk, meat, and fiber.',\n",
       " 'Cleaning equipment is used for removing dirt and maintaining hygiene.',\n",
       " 'Cleaning after toilet helps maintain personal hygiene.',\n",
       " 'A visit is an activity that allows someone to spend time at a particular place or with someone.',\n",
       " 'A hand opening to closing allows one to grasp or release objects.',\n",
       " 'Brushing teeth helps clean and maintain oral hygiene.',\n",
       " 'A toilet is an object that provides a place for waste elimination.',\n",
       " '\"Doing dishes ensures that eating utensils and cookware are cleaned for future use.\"',\n",
       " 'Pouring drinking water provides a means to transfer water into a container for consumption.',\n",
       " 'Pouring water transfers liquid from one container to another.',\n",
       " 'A starting stove is an object that provides heat to begin cooking food.',\n",
       " 'Cooking is a process that prepares food for consumption.',\n",
       " 'A kitchen provides a space to prepare food.',\n",
       " 'Shoes are objects that protect and comfort the feet while walking or running.',\n",
       " 'Washing hands is an action that cleans and removes germs from hands.',\n",
       " 'Walking to get water facilitates the acquisition and transport of water for consumption or use.',\n",
       " 'A washing machine is an object that cleans clothes.',\n",
       " 'Eating is an action that provides the body with necessary nutrients and energy.',\n",
       " 'Family eating fosters connection and nourishment through shared meals.',\n",
       " 'Vegetables provide nutrients and energy for the body when consumed.',\n",
       " 'A smoke and steam exit allows smoke and steam to be safely released from a building.',\n",
       " 'Fruits and vegetables provide nutritional nourishment.',\n",
       " 'Toys are objects that provide entertainment and stimulation.',\n",
       " 'Nicest shoes enhance appearance and comfort for the wearer.',\n",
       " 'Mosquito protection is an object that prevents mosquito bites.',\n",
       " 'A wall decoration enhances the aesthetic appeal of a space.',\n",
       " 'A living room is a space that provides a place for relaxation and social gatherings.',\n",
       " 'Fruit trees are objects that provide fruit for consumption.',\n",
       " 'Toilet paper is an object that provides a means to clean oneself after using the toilet.',\n",
       " 'A bathroom/toilet is an object that provides a place for personal hygiene and waste elimination.',\n",
       " 'Shaving removes facial or body hair for grooming purposes.',\n",
       " 'A lock on the front door secures and restricts access to a building.',\n",
       " 'A couch is an object that provides a place to sit and relax.',\n",
       " 'A sofa is an object that provides a place to sit.',\n",
       " 'Knives are objects that are used to cut.',\n",
       " 'A dish rack is an object that provides a place to dry dishes.',\n",
       " 'A play area is an object that provides a place to engage in recreational activities.',\n",
       " 'A place where serving guests provides a location to host and entertain visitors.',\n",
       " 'A photo guide images helps provide visual instructions or references.',\n",
       " 'Agricultural land provides a space for growing crops and raising livestock.',\n",
       " 'A sitting area is a space that provides a place to sit and relax.',\n",
       " '\"Bed kids\" isn\\'t a standard term, but if interpreted as \"kids\\' bed,\" it provides a place for children to sleep.',\n",
       " 'Drying removes moisture from objects or surfaces.',\n",
       " 'A water outlet is an object that provides a source of water.',\n",
       " 'Drainage facilitates the removal of excess water from an area.',\n",
       " 'A shower is an object that provides a place to wash and cleanse the body.',\n",
       " \"A house overview provides a summary or general layout of a home's features and structure.\",\n",
       " 'Socializing is an activity that fosters interaction and connection between people.',\n",
       " 'Playing provides a way to engage in entertainment and enhance skills.',\n",
       " '\"Kids playing outside facilitates physical activity and social interaction.\"',\n",
       " 'A cutting board is an object that provides a surface for chopping food.',\n",
       " 'Chickens are animals that provide eggs and meat.',\n",
       " 'A bike is an object that provides a means to travel.',\n",
       " 'A source of heat provides warmth.',\n",
       " 'A phone is an object that facilitates communication.',\n",
       " 'A work area is an object that provides a place to perform tasks.',\n",
       " \"A children's room is a space that provides a safe and creative environment for kids to play, learn, and rest.\",\n",
       " 'A light source in the living room provides illumination for the space.',\n",
       " 'A washing detergent is a substance that cleans and freshens laundry.',\n",
       " 'Medication is a substance that promotes healing or alleviates symptoms of illness.',\n",
       " 'Dishwashing soap is a cleaning agent that removes grease and food residues from dishes.',\n",
       " 'A light switch is an object that controls the illumination in a room.',\n",
       " 'A source of light is an object that provides illumination.',\n",
       " 'A wall clock is an object that provides a way to tell time.',\n",
       " 'A guest bed provides a temporary sleeping arrangement for visitors.',\n",
       " 'Diapers provide a way to contain and absorb waste from infants or toddlers.',\n",
       " 'A switch on/off controls the power flow to an electrical device.',\n",
       " 'A pen/pencil is an object that provides a tool to write or draw.',\n",
       " 'Paper is an object that provides a surface for writing or drawing.',\n",
       " 'A rug is an object that provides a decorative and protective covering for a floor.',\n",
       " \"The object 'bed_hq' serves as a central platform for managing and optimizing sleep-related resources.\",\n",
       " 'A social drink facilitates conversation and bonding in social settings.',\n",
       " 'Carrying water enables the transport of water from one location to another.',\n",
       " 'Light sources provide illumination.',\n",
       " 'Music equipment is used to create, record, or play music.',\n",
       " 'Front door keys provide a means to unlock and secure the front door.',\n",
       " 'Lightsources by the bed provide illumination for reading or visibility in the sleeping area.',\n",
       " 'A reading light is an object that provides illumination for reading.',\n",
       " 'A necklace is an object that provides adornment for the neck.',\n",
       " 'Earrings are objects that serve as decorative accessories for the ears.',\n",
       " 'Cosmetics are products that enhance or alter the appearance of the skin, hair, or body.',\n",
       " 'Cleaning floors removes dirt and debris to maintain a tidy environment.',\n",
       " 'Makeup enhances or alters the appearance of the face.',\n",
       " \"Putting on makeup enhances or alters one's appearance.\",\n",
       " 'A cutting board provides a surface for chopping ingredients.',\n",
       " 'Brushing hair untangles and smooths the hair.',\n",
       " 'Taking a teaspoon of salt adds seasoning or flavor to food.',\n",
       " 'Drinking a social drink facilitates social interaction and relaxation.',\n",
       " 'Meat or fish is a food that provides nutrition and sustenance.',\n",
       " 'A replaced object takes the position or function of another item.',\n",
       " 'A radio is an object that broadcasts audio content for listening.',\n",
       " 'Listening to the radio provides entertainment and information.',\n",
       " 'Coins are objects that facilitate monetary transactions.',\n",
       " 'Pet foods provide nourishment for animals.',\n",
       " 'Menstruation pads and tampons are products that absorb menstrual flow.',\n",
       " 'Dinner guests are people who engage in social interaction and share a meal.',\n",
       " 'Nature sceneries provide a visual and sensory experience of natural beauty.',\n",
       " 'Worship places provide a space for people to practice their religious or spiritual beliefs.',\n",
       " 'A power outlet provides a point to access electrical power.',\n",
       " 'Glasses or lenses correct or enhance vision.',\n",
       " 'Adding spices to food while cooking enhances its flavor and aroma.',\n",
       " 'Presenting Dollar Street visually represents the living conditions of families worldwide to highlight global socio-economic differences.',\n",
       " 'Worshiping is an activity that facilitates spiritual or religious reverence and connection.',\n",
       " 'Writing is an activity that conveys thoughts and information through text.',\n",
       " \"A writing signature verifies and authenticates a person's identity or approval.\",\n",
       " 'A TV is an object that provides a platform for viewing visual content.',\n",
       " 'Fishes swim in water and contribute to aquatic ecosystems.',\n",
       " 'Bowls are objects that hold and contain food or liquids for eating or serving.',\n",
       " 'Kids playing inside provides a space for imagination and fun.',\n",
       " 'Bills of money serve as a medium of exchange for goods and services.',\n",
       " 'Coats and jackets provide protection and warmth in cold weather.',\n",
       " 'Surroundings provide a context or environment for experiences and activities.',\n",
       " 'A moped/motorcycle is an object that provides a means of transportation.',\n",
       " 'A parking lot provides a place to park vehicles.',\n",
       " 'Toothpaste on a toothbrush cleans and maintains dental hygiene.',\n",
       " 'A wheelbarrow is an object that allows for the transport of materials.',\n",
       " 'Waste dumps provide a location for the disposal of waste materials.',\n",
       " 'Wedding photos capture and preserve memories from a wedding day.',\n",
       " 'Ventilation is a system that provides fresh air circulation.',\n",
       " 'Milk cows provide milk for consumption and dairy products.',\n",
       " 'Answering the phone allows for verbal communication between two or more parties.',\n",
       " 'Closing the front door secures the entrance to maintain privacy and safety.',\n",
       " 'Hanging clothes to dry allows them to air-dry naturally.',\n",
       " 'Opening the front door allows entry into or exit from a building.',\n",
       " 'Reading engages the mind by providing information, entertainment, or a means of learning.',\n",
       " 'Reading a book provides a way to gain knowledge or entertainment.',\n",
       " 'Seeing the back of a book provides a summary or overview of its content.',\n",
       " 'Sleeping is an activity that restores and rejuvenates the body and mind.',\n",
       " 'Turning a fan or AC on provides a means to cool down the environment.',\n",
       " 'Turning a heater on provides warmth to an environment.',\n",
       " 'Walking towards the front door is an action that allows someone to leave or enter a building.',\n",
       " 'A writing \"home\" provides a place to create and organize written content.',\n",
       " 'Piercings are objects that adorn the body for decoration or personal expression.',\n",
       " 'Fishing equipment enables the capture of aquatic organisms.',\n",
       " 'An arm watch is an object that tells the time.',\n",
       " 'Soccer balls are objects used to play the game of soccer.',\n",
       " 'Horse stables provide a place to shelter and care for horses.',\n",
       " 'Playgrounds provide a space for recreational play and physical activity.',\n",
       " 'Drinks are liquids consumed to hydrate or quench thirst.',\n",
       " 'Other transport provides a means to move people or goods from one place to another.',\n",
       " 'A car is an object that provides a means of transportation.',\n",
       " 'Car decorations enhance the aesthetic appeal and personalization of a vehicle.',\n",
       " 'A transport of heavy things is an object that moves large items from one place to another.',\n",
       " 'Clothes are objects that provide covering and protection to the body.',\n",
       " 'Cigarettes are objects that deliver nicotine to the user.',\n",
       " 'Portraits are objects that capture and display images of individuals or groups.',\n",
       " 'Ingredients provide the necessary components for creating a dish.',\n",
       " 'Fields provide a space for growing crops and supporting various agricultural activities.',\n",
       " 'Celebrity posters serve to decorate spaces and express admiration for famous individuals.',\n",
       " 'A freezer is an object that preserves food by keeping it frozen.',\n",
       " 'A boat is an object that provides transportation on water.',\n",
       " 'Arm watches are objects that provide the function of keeping and displaying time.',\n",
       " 'A couch is an object that provides a place to sit and watch TV.',\n",
       " 'Plugging into and out of a power outlet connects or disconnects a device from an electrical power source.',\n",
       " 'A dishwasher is an object that cleans dishes and utensils.',\n",
       " 'An oven is an object that provides a way to cook food.',\n",
       " 'Baby powder helps to absorb moisture and reduce friction on the skin.',\n",
       " 'Tattoos serve as a form of body art and personal expression.',\n",
       " 'A sheep is an animal that provides wool and meat.',\n",
       " 'Preparing social drink provides a beverage for social gatherings.',\n",
       " \"The function of 'go through mail' is to review and sort correspondence and documents.\",\n",
       " 'Smoking is an activity that involves inhaling and exhaling the smoke of burning plant material.',\n",
       " 'Walking through home allows navigation and movement between different spaces within a residence.',\n",
       " 'A computer is an object that processes data and performs tasks.',\n",
       " 'Contraceptives are objects that help prevent pregnancy.',\n",
       " 'An instrument is an object that produces music or sound.',\n",
       " 'Rehabilitation technology aids in recovery and improves functionality for individuals with disabilities or injuries.',\n",
       " 'The function of \"turn TV on\" is to power up the television for viewing.',\n",
       " 'Playing an instrument produces music or sound for enjoyment or artistic expression.',\n",
       " '\"Bread ready\" signals that bread is prepared for consumption.',\n",
       " 'Alcoholic drinks provide leisure and altered states of consciousness.',\n",
       " 'Snacks provide a quick source of energy and satisfy hunger between meals.',\n",
       " 'An alarm clock is an object that emits sound to wake you up.',\n",
       " 'Throwing food trash away helps maintain cleanliness and prevent odors.',\n",
       " 'Car keys are objects that start and unlock a car.',\n",
       " 'Tractors are machines that perform tasks such as plowing, planting, and towing on farms.',\n",
       " 'Opening and closing the refrigerator allows access to stored food and regulates its temperature.',\n",
       " 'Water sources provide essential hydration for living organisms.',\n",
       " 'Opening and closing the freezer allows access to frozen items and helps maintain their temperature.',\n",
       " 'Horses are animals that provide transportation and companionship.',\n",
       " 'Water sources for doing dishes provide a supply of water for cleaning dishes.',\n",
       " 'Soccer supporter items express enthusiasm and support for a soccer team.',\n",
       " 'Cooking food is an activity that transforms raw ingredients into edible meals.',\n",
       " 'Snack stores provide a place to purchase snacks.',\n",
       " 'Daylight obstructions block or reduce the amount of natural light entering a space.',\n",
       " 'A smog/bad air breathing protection device filters harmful pollutants to ensure safe breathing.',\n",
       " 'Bad outdoor air obstructions hinder the flow and quality of air.',\n",
       " 'Skies outside provide a view of the atmosphere and weather conditions.',\n",
       " 'Sources of drinking water provide safe water for consumption.',\n",
       " \"'Laying in bed - pretend to sleep' allows for rest simulation without actual sleep.\",\n",
       " 'Newspapers provide information and news to readers.',\n",
       " 'An elevator is an object that transports people or goods between different levels of a building.',\n",
       " 'A water purifier solution removes contaminants to make water safe for drinking.',\n",
       " 'Air fresheners provide a means to enhance or improve the scent of a space.',\n",
       " 'Smells provide sensory information about the environment through the sense of olfaction.',\n",
       " 'Air cleaning equipment removes impurities from the air to improve indoor air quality.',\n",
       " 'A foodstore is a place that provides storage for food.',\n",
       " 'Markets facilitate the exchange of goods and services between buyers and sellers.',\n",
       " 'Picking up the phone enables communication and access to information.',\n",
       " 'Bread provides sustenance or nourishment when consumed.',\n",
       " 'Opening mail is an activity that allows you to access and read the contents of sent correspondence.',\n",
       " 'Meat storages are objects that provide a place to preserve and store meat.',\n",
       " 'Bread bowls serve as edible containers for holding and serving soups or stews.',\n",
       " 'A disability aid is an object that enhances independence and facilitates daily activities for individuals with disabilities.',\n",
       " 'Electric wires conduct electricity to transmit power or signals.',\n",
       " 'Tabloids provide sensationalized news and entertainment.',\n",
       " 'Equipment serves to assist in performing specific tasks or functions.',\n",
       " 'Baking tools are objects that assist in preparing and baking food.',\n",
       " 'Baking sheets provide a surface for baking items in the oven.',\n",
       " 'A baking table is an object that provides a surface for preparing and rolling out dough.',\n",
       " 'Electricity wires transmit electrical power from one location to another.',\n",
       " 'Meat markets are places that facilitate the buying and selling of meat.',\n",
       " 'Vegetable markets provide a place to buy and sell fresh produce.']"
      ]
     },
     "execution_count": 136,
     "metadata": {},
     "output_type": "execute_result"
    }
   ],
   "source": [
    "function_list"
   ]
  },
  {
   "cell_type": "code",
   "execution_count": 62,
   "id": "fdf653d5",
   "metadata": {},
   "outputs": [],
   "source": [
    "def get_question(definition):\n",
    "    '''gets functional definition of one object from gpt4'''\n",
    "    \n",
    "    response = client.chat.completions.create(\n",
    "    messages=[{\n",
    "        \"role\": \"user\",\n",
    "        \"content\": f\"'A bed is an object that provides a place to sleep - This is a photo of objects that provide a place to sleep.', 'Salt is a substance that enhances the flavor of food. - This is a photo of a substance that enhances the flavor of food.' Following the above examples in quotes (do not repeat the examples in your response), complete the next sentence by adding 'This is a photo of ' appropriately at the beginning of the sentence. '{definition}'\",\n",
    "    }],\n",
    "    model=\"gpt-4o\",)\n",
    "    \n",
    "    return response.choices[0].message.content"
   ]
  },
  {
   "cell_type": "code",
   "execution_count": 63,
   "id": "58287910",
   "metadata": {},
   "outputs": [],
   "source": [
    "def define_question_list(definition_list):\n",
    "    '''creates questions using functional definition of objects in object list from gpt4'''\n",
    "    \n",
    "    question_list = []\n",
    "    for definition in tqdm.tqdm(definition_list):\n",
    "        question = get_question(definition)\n",
    "        question_list.append(question)\n",
    "        \n",
    "    return question_list"
   ]
  },
  {
   "cell_type": "code",
   "execution_count": 64,
   "id": "f1460f6a",
   "metadata": {},
   "outputs": [],
   "source": [
    "def clean_list(question_list):\n",
    "    question_list_clean = []\n",
    "    for question in tqdm.tqdm(question_list):\n",
    "        if '-' in question:\n",
    "            question_list_clean.append(question.split('-')[-1].replace(\"\\'\", \"\"))\n",
    "\n",
    "        else:\n",
    "            question_list_clean.append(question.replace(\"\\'\", \"\"))\n",
    "    return question_list_clean"
   ]
  },
  {
   "cell_type": "code",
   "execution_count": 66,
   "id": "abfd028b",
   "metadata": {},
   "outputs": [
    {
     "name": "stderr",
     "output_type": "stream",
     "text": [
      "100%|██████████| 270/270 [02:43<00:00,  1.65it/s]\n"
     ]
    }
   ],
   "source": [
    "function_prompts = define_question_list(function_list)"
   ]
  },
  {
   "cell_type": "code",
   "execution_count": 67,
   "id": "8b5629c3",
   "metadata": {},
   "outputs": [
    {
     "data": {
      "text/plain": [
       "'This is a photo of memories of shared moments.'"
      ]
     },
     "execution_count": 67,
     "metadata": {},
     "output_type": "execute_result"
    }
   ],
   "source": [
    "function_prompts[0]"
   ]
  },
  {
   "cell_type": "code",
   "execution_count": 78,
   "id": "afc1afac",
   "metadata": {},
   "outputs": [
    {
     "data": {
      "text/plain": [
       "270"
      ]
     },
     "execution_count": 78,
     "metadata": {},
     "output_type": "execute_result"
    }
   ],
   "source": [
    "len(topics)"
   ]
  },
  {
   "cell_type": "code",
   "execution_count": 139,
   "id": "bb7aeaa3",
   "metadata": {},
   "outputs": [
    {
     "data": {
      "text/plain": [
       "270"
      ]
     },
     "execution_count": 139,
     "metadata": {},
     "output_type": "execute_result"
    }
   ],
   "source": [
    "len(set(function_prompts))"
   ]
  },
  {
   "cell_type": "code",
   "execution_count": 140,
   "id": "b6344b28",
   "metadata": {},
   "outputs": [],
   "source": [
    "topic2english = {}\n",
    "for topic, prompt in zip(topics, function_prompts):\n",
    "    topic2english[topic] = prompt"
   ]
  },
  {
   "cell_type": "code",
   "execution_count": 122,
   "id": "1ff7e8cd",
   "metadata": {},
   "outputs": [
    {
     "data": {
      "text/plain": [
       "'This is a photo of an object that provides a way to access drinking water.'"
      ]
     },
     "execution_count": 122,
     "metadata": {},
     "output_type": "execute_result"
    }
   ],
   "source": [
    "topic2english['get water']"
   ]
  },
  {
   "cell_type": "code",
   "execution_count": 141,
   "id": "c3baa8a1",
   "metadata": {},
   "outputs": [
    {
     "name": "stderr",
     "output_type": "stream",
     "text": [
      "100%|██████████| 270/270 [00:00<00:00, 1281065.70it/s]"
     ]
    },
    {
     "name": "stdout",
     "output_type": "stream",
     "text": [
      "270\n"
     ]
    },
    {
     "name": "stderr",
     "output_type": "stream",
     "text": [
      "\n"
     ]
    }
   ],
   "source": [
    "english_dict_topic2imgGT = {}\n",
    "\n",
    "for topic in tqdm.tqdm(topics):\n",
    "    key = topic2english[topic]\n",
    "    english_dict_topic2imgGT[key] = dict_topic2img[topic]\n",
    "print(len(english_dict_topic2imgGT))"
   ]
  },
  {
   "cell_type": "code",
   "execution_count": 144,
   "id": "1b4462f0",
   "metadata": {},
   "outputs": [],
   "source": [
    "#english_dict_topic2imgGT"
   ]
  },
  {
   "cell_type": "code",
   "execution_count": 135,
   "id": "8744f878",
   "metadata": {},
   "outputs": [],
   "source": [
    "f = open(\"/dict_genfunction_topic2imgGT.pkl\",\"wb\")\n",
    "\n",
    "# write the python object (dict) to pickle file\n",
    "pickle.dump(english_dict_topic2imgGT ,f)\n",
    "\n",
    "# close file\n",
    "f.close()"
   ]
  },
  {
   "cell_type": "code",
   "execution_count": null,
   "id": "a27390c2",
   "metadata": {},
   "outputs": [],
   "source": []
  }
 ],
 "metadata": {
  "kernelspec": {
   "display_name": "Python 3 (ipykernel)",
   "language": "python",
   "name": "python3"
  },
  "language_info": {
   "codemirror_mode": {
    "name": "ipython",
    "version": 3
   },
   "file_extension": ".py",
   "mimetype": "text/x-python",
   "name": "python",
   "nbconvert_exporter": "python",
   "pygments_lexer": "ipython3",
   "version": "3.10.9"
  }
 },
 "nbformat": 4,
 "nbformat_minor": 5
}
